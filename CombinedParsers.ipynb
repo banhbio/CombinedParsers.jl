{
 "cells": [
  {
   "cell_type": "markdown",
   "metadata": {
    "slideshow": {
     "slide_type": "slide"
    }
   },
   "source": [
    "## CombinedParsers in pure Julia\n",
    "\n",
    "\n",
    "https://en.wiktionary.org/wiki/parse#Etymology\n",
    "> Possibly from Middle English pars (“parts, shares; parts of speech, grammar”), from Old French pars (plural of part (“part, portion, share”)), from Latin pars (“part, piece, share”), possibly from Proto-Indo-European *per- (“to carry forth; to sell”).\n",
    "\n",
    "Parsing is a recurring annoyance when preparing data for computing...\n",
    "\n"
   ]
  },
  {
   "cell_type": "markdown",
   "metadata": {
    "slideshow": {
     "slide_type": "slide"
    }
   },
   "source": [
    "### Regular languages\n",
    "- regular expressions: syntax of the standard parsing language\n",
    "- parser generators: compiled grammars and state machines\n",
    "\n",
    "separated grammar and transformation (start, stop hooks)\n",
    "\n",
    "\n",
    "### Parser Combinators\n",
    "- syntax and transformation in a functional paradigm\n",
    "- Julia-compiler: parametric types and multiple dispatch\n",
    "\n",
    "type-safe, integrated grammar and transformation\n"
   ]
  },
  {
   "cell_type": "markdown",
   "metadata": {
    "slideshow": {
     "slide_type": "skip"
    }
   },
   "source": [
    "\n",
    "#### Parsing the audience\n",
    "- regular expressions?\n",
    "- grammar based parser generators (ANTLR,...)?\n",
    "- hand-coded parsers?\n",
    "\n",
    "Did you experience some despair?"
   ]
  },
  {
   "cell_type": "markdown",
   "metadata": {
    "slideshow": {
     "slide_type": "slide"
    }
   },
   "source": [
    "## CombinedParsers.jl\n",
    "I needed a flexible fast parsing machinery, and wrote a optimizable parser combinator from scratch to learn Julia parametric types and multiple dispatch.\n",
    "\n",
    "Design goals:\n",
    "- easy syntax\n",
    "- transformation @ grammar, type safety and validation\n",
    "- iterating possible parsings\n",
    "- fast"
   ]
  },
  {
   "cell_type": "markdown",
   "metadata": {
    "slideshow": {
     "slide_type": "fragment"
    }
   },
   "source": [
    "Following performance recommendations of Julia 1.0\n",
    "- small Union{Nothing,T} instead of Nullable{T}\n",
    "- iterable interface\n",
    "- parametric immutable matcher types for compiler optimizations with generated functions"
   ]
  },
  {
   "cell_type": "markdown",
   "metadata": {
    "slideshow": {
     "slide_type": "slide"
    }
   },
   "source": [
    "Recurring point of this presentation: recursion and regular languages:\n",
    "\n",
    "#### The presentation outlines a CombinedParser for PCRE syntax, which generates julia-compiled parsers for regular expressions equivalent with the PCRE C library.\n",
    "\n",
    "You will \n",
    "- refresh your regular expression knowledge while you\n",
    "- learn the matching, transformation and logging API of CombinedParsers.jl.\n"
   ]
  },
  {
   "cell_type": "markdown",
   "metadata": {
    "slideshow": {
     "slide_type": "slide"
    }
   },
   "source": [
    "## Regular expressions: ```match``` Strings\n",
    "\n",
    "A regular expression is a String, most characters define a matcher for a Char identical to that character (```r\"a\"``` matches ```\"a\"```).  Meta-characters like `?` for optional matching need to be escaped with ```\\```. Parenthesis define subexpressions.\n",
    "\n",
    "CombinedParsers provides ```@re_str``` macro as a plug-in replacement for the base Julia ```@r_str``` macro.\n"
   ]
  },
  {
   "cell_type": "code",
   "execution_count": 1,
   "metadata": {
    "slideshow": {
     "slide_type": "fragment"
    }
   },
   "outputs": [
    {
     "data": {
      "text/plain": [
       "RegexMatch(\"regexp\", 1=nothing, 2=\"p\", 3=nothing)"
      ]
     },
     "execution_count": 1,
     "metadata": {},
     "output_type": "execute_result"
    }
   ],
   "source": [
    "# Base Julia PCRE regular expressions\n",
    "match(r\"reg(ular )?ex(p(ression)?)?\\??\"i,\"regexp\")"
   ]
  },
  {
   "cell_type": "code",
   "execution_count": 4,
   "metadata": {
    "slideshow": {
     "slide_type": "fragment"
    }
   },
   "outputs": [
    {
     "data": {
      "text/plain": [
       "ParseMatch(\"Regular Expression?\", 1=\"ular \", 2=\"pression\", 3=\"ression\")"
      ]
     },
     "execution_count": 4,
     "metadata": {},
     "output_type": "execute_result"
    }
   ],
   "source": [
    "using CombinedParsers\n",
    "using CombinedParsers.Regexp\n",
    "match(re\"reg(ular )?ex(p(ression)?)?\\??\"i,\"Regular Expression?\")"
   ]
  },
  {
   "cell_type": "markdown",
   "metadata": {
    "slideshow": {
     "slide_type": "slide"
    }
   },
   "source": [
    "## Parsing and Transformations\n",
    "```match``` searches for the first match of the Regex in the String and return a `RegexMatch`/`Parsematch` object containing the match and captures, or nothing if the match failed.\n",
    "This is very limiting.\n",
    "\n",
    "CombinedParser also can ```parse``` a string, resulting in an instance of ```result_type(p)```, by default nested Tuple and Vector of Chars and Missing.\n"
   ]
  },
  {
   "cell_type": "code",
   "execution_count": 6,
   "metadata": {
    "slideshow": {
     "slide_type": "fragment"
    }
   },
   "outputs": [
    {
     "name": "stdout",
     "output_type": "stream",
     "text": [
      "result_type(p) = Tuple{Char,Char,Char,Union{Missing, NTuple{5,Char}},Char,Char,Union{Missing, Tuple{Char,Union{Missing, NTuple{7,Char}}}},Union{Missing, Char}}\n"
     ]
    },
    {
     "data": {
      "text/plain": [
       "('R', 'e', 'g', missing, 'e', 'x', ('p', missing), missing)"
      ]
     },
     "execution_count": 6,
     "metadata": {},
     "output_type": "execute_result"
    }
   ],
   "source": [
    "p = re\"reg(ular )?ex(p(ression)?)?\\??\"i\n",
    "@show result_type(p)\n",
    "parse(p,\"Regexp\")"
   ]
  },
  {
   "cell_type": "markdown",
   "metadata": {
    "slideshow": {
     "slide_type": "slide"
    }
   },
   "source": [
    "## Regular expressions: Either, Characters, and logging\n",
    "\n",
    "Lets build the major scaffold of the parser for regular expressions from scratch now!"
   ]
  },
  {
   "cell_type": "code",
   "execution_count": 3,
   "metadata": {},
   "outputs": [
    {
     "data": {
      "text/plain": [
       "\u001b[36m\u001b[1m|\u001b[22m\u001b[39m\u001b[0m\u001b[1m🗄\u001b[22m\u001b[36m\u001b[1m...\u001b[22m\u001b[39m\u001b[0m Either\n",
       "├─ \u001b[36m\u001b[1m[^\\\\\\^\\$\\.\\[\\|\\(\\)\\?\\*\\+\\{]\u001b[22m\u001b[39m\u001b[0m  |> with_name(:\u001b[31m\u001b[1mcharacter\u001b[22m\u001b[39m)\n",
       "└─ \u001b[0m\u001b[1m🗄\u001b[22m\u001b[0m Sequence |> map(#31) |> with_name(:\u001b[31m\u001b[1mescaped meta\u001b[22m\u001b[39m)\n",
       "   ├─ \u001b[36m\u001b[1m\\\\\u001b[22m\u001b[39m\u001b[0m \n",
       "   └─ \u001b[36m\u001b[1m[\\\\\\^\\$\\.\\[\\|\\(\\)\\?\\*\\+\\{]\u001b[22m\u001b[39m\u001b[0m \n"
      ]
     },
     "execution_count": 3,
     "metadata": {},
     "output_type": "execute_result"
    }
   ],
   "source": [
    "import CombinedParsers.Regexp: meta_chars\n",
    "\n",
    "char_matcher =  Either(\n",
    "    \n",
    "    with_name(\"character\", \n",
    "        CharNotIn([ c for c in meta_chars])),\n",
    "    \n",
    "    with_name(\"escaped meta\", \n",
    "        Sequence(2, # emit unescaped\n",
    "            '\\\\', CharIn(meta_chars)))\n",
    "    \n",
    ")"
   ]
  },
  {
   "cell_type": "code",
   "execution_count": null,
   "metadata": {
    "slideshow": {
     "slide_type": "skip"
    }
   },
   "outputs": [],
   "source": [
    "@show pcre = Regex(regex_string(char))\n",
    "\n",
    "@show match(pcre,\"a\")\n",
    "@show match(pcre,\"\\\\[\")\n",
    "\n",
    "@show match(log_names(char),\"a\")\n",
    "@show match(char,\"\\\\[\"; log=true)"
   ]
  },
  {
   "cell_type": "markdown",
   "metadata": {
    "slideshow": {
     "slide_type": "slide"
    }
   },
   "source": [
    "### Transforming a Parsing\n",
    "The Julia ```map``` method for `CombinedParsers.AbstractParser` creates a transforming parser.\n",
    "The parser for escaped and not escaped regular expression characters ```char``` can be transformed to emit not the `Char` but an `CharIn<:AbstractParser` matching the unescaped character."
   ]
  },
  {
   "cell_type": "code",
   "execution_count": 7,
   "metadata": {
    "scrolled": true,
    "slideshow": {
     "slide_type": "fragment"
    }
   },
   "outputs": [
    {
     "name": "stdout",
     "output_type": "stream",
     "text": [
      "result_type(char_matcher) = Char\n",
      "parsed_obracket = parse(char_matcher, \"\\\\[\") = '['\n"
     ]
    },
    {
     "data": {
      "text/plain": [
       "'[': ASCII/Unicode U+005b (category Ps: Punctuation, open)"
      ]
     },
     "execution_count": 7,
     "metadata": {},
     "output_type": "execute_result"
    }
   ],
   "source": [
    "@show result_type(char_matcher)\n",
    "\n",
    "@show parsed_obracket = parse(char_matcher,\"\\\\[\")"
   ]
  },
  {
   "cell_type": "code",
   "execution_count": 9,
   "metadata": {
    "scrolled": true
   },
   "outputs": [
    {
     "name": "stdout",
     "output_type": "stream",
     "text": [
      "result_type(char_parser_parser) = CharIn\n",
      "parsed_obracket_parser = parse(char_parser_parser, \"\\\\[\") = re\"\\[\"\n"
     ]
    },
    {
     "data": {
      "text/plain": [
       "'[': ASCII/Unicode U+005b (category Ps: Punctuation, open)"
      ]
     },
     "execution_count": 9,
     "metadata": {},
     "output_type": "execute_result"
    }
   ],
   "source": [
    "char_parser_parser = map(CharIn,char_matcher)\n",
    "@show result_type(char_parser_parser)\n",
    "\n",
    "@show parsed_obracket_parser = parse(char_parser_parser,\"\\\\[\")\n",
    "\n",
    "parse(parsed_obracket_parser,\"[\")"
   ]
  },
  {
   "cell_type": "markdown",
   "metadata": {
    "slideshow": {
     "slide_type": "slide"
    }
   },
   "source": [
    "### Repeat, Transformation, and Sequence\n",
    "A basic feature of regular expression is whether a repeatable pattern (e.g. a char) is optional `?`, or should be repeated at least once `+`, any times `*`, or `{min,max}` times.\n",
    "\n",
    "The CombinedParser to parse the `(min, max)` tuple from PCRE syntax:"
   ]
  },
  {
   "cell_type": "code",
   "execution_count": 28,
   "metadata": {},
   "outputs": [
    {
     "name": "stdout",
     "output_type": "stream",
     "text": [
      "result_type(repetition) = Tuple{Int64,Int64}\n",
      "parse(repetition, \"?\") = (0, 1)\n",
      "parse(repetition, \"{1}\") = (1, 1)\n"
     ]
    }
   ],
   "source": [
    "import CombinedParsers.Regexp: integer\n",
    "\n",
    "# https://www.pcre.org/original/doc/html/pcrepattern.html#SEC17\n",
    "@with_names repetition = Either(\n",
    "    \"?\" => (0,1), #  `Pair` syntax to map a match to a constant\n",
    "    \n",
    "    \"+\" => (1,typemax(Int)),\n",
    "    \"*\" => (0,typemax(Int)),\n",
    "    Sequence(\n",
    "        \"{\", \n",
    "        \n",
    "        integer,\n",
    "        Optional( Sequence(2,\",\",\n",
    "            Optional(integer, default=typemax(Int)))),\n",
    "        \n",
    "        \"}\") do v  # the do syntax implicitly calling map on the sequence\n",
    "            if v[3] isa Missing\n",
    "                (v[2],v[2])\n",
    "            else\n",
    "                (v[2],v[3])\n",
    "            end::Tuple{Int,Int}\n",
    "    end\n",
    ")\n",
    "\n",
    "@show result_type(repetition)\n",
    "@show parse(repetition, \"?\")\n",
    "@show parse(repetition, \"{1}\");"
   ]
  },
  {
   "cell_type": "markdown",
   "metadata": {
    "slideshow": {
     "slide_type": "slide"
    }
   },
   "source": [
    "### Repeatable patterns, Optional, Lazy and Atomic\n",
    "The character matcher is the simplest repeatable pattern.\n",
    "\n",
    "The CombinedParser to parse a repeated matcher from PCRE syntax"
   ]
  },
  {
   "cell_type": "code",
   "execution_count": 39,
   "metadata": {},
   "outputs": [
    {
     "name": "stdout",
     "output_type": "stream",
     "text": [
      "\u001b[32m\u001b[1m   match \u001b[22m\u001b[39mescaped meta: \u001b[32m\u001b[1m\\\\+\u001b[22m\u001b[39m\u001b[33m+?\u001b[39m\n",
      "\u001b[32m\u001b[1m   match \u001b[22m\u001b[39mrepetition: \u001b[0m\\\\+\u001b[32m\u001b[1m+\u001b[22m\u001b[39m\u001b[33m?\u001b[39m\n",
      "\u001b[32m\u001b[1m   match \u001b[22m\u001b[39mquantified: \u001b[32m\u001b[1m\\\\++?\u001b[22m\u001b[39m\n"
     ]
    },
    {
     "data": {
      "text/plain": [
       "\u001b[36m\u001b[1m\\+\u001b[22m\u001b[39m\u001b[36m\u001b[1m+?\u001b[22m\u001b[39m\u001b[0m  |> Repeat |> Lazy\n"
      ]
     },
     "execution_count": 39,
     "metadata": {},
     "output_type": "execute_result"
    }
   ],
   "source": [
    "repeatable = Either{AbstractParser}(\n",
    "    Any[char_parser_parser])\n",
    "## we will add groups to repeatable later\n",
    "\n",
    "@with_names quantified=Sequence(\n",
    "        repeatable,\n",
    "        Optional(repetition, default=(1,1)),\n",
    "        Optional(map(v->convert(Char,v),CharIn('+','?'))) # possessive quantifier\n",
    "    ) do v\n",
    "        pat = v[1]\n",
    "        result = if v[2]==(1,1)\n",
    "            pat\n",
    "        elseif v[2]==(0,1)\n",
    "            Optional(pat)\n",
    "        else\n",
    "            Repeat(pat,v[2])\n",
    "        end\n",
    "        if v[3] === missing\n",
    "            result\n",
    "        elseif v[3]=='+'\n",
    "            Atomic(result)\n",
    "        elseif v[3]=='?'\n",
    "            Lazy(result)\n",
    "        else\n",
    "            result\n",
    "        end\n",
    "    end\n",
    "\n",
    "\n",
    "parse(log_names(quantified), raw\"\\++?\")"
   ]
  },
  {
   "cell_type": "markdown",
   "metadata": {
    "slideshow": {
     "slide_type": "slide"
    }
   },
   "source": [
    "### Sequences and Alternations\n",
    "Regular expression patterns can be written in sequence, delimited by `|` for matching either one of several alternatives."
   ]
  },
  {
   "cell_type": "code",
   "execution_count": 47,
   "metadata": {},
   "outputs": [],
   "source": [
    "@with_names begin\n",
    "    sequence = map( v->sSequence(v...),\n",
    "        Repeat( quantified ))\n",
    "\n",
    "    alternation = Sequence(\n",
    "        sequence, \n",
    "        Repeat(Sequence(2, '|',sequence))) do v\n",
    "            sEither(v[1],v[2]...)::AbstractParser\n",
    "        end\n",
    "end;\n"
   ]
  },
  {
   "cell_type": "markdown",
   "metadata": {
    "slideshow": {
     "slide_type": "slide"
    }
   },
   "source": [
    "### Captures\n",
    "Parentheses allow groupings that are repeatable."
   ]
  },
  {
   "cell_type": "code",
   "execution_count": 45,
   "metadata": {},
   "outputs": [],
   "source": [
    "import CombinedParsers.Regexp: name\n",
    "\n",
    "@with_names begin\n",
    "    noncapture_group=Sequence( 2, \"(?:\",alternation,\")\")\n",
    "\n",
    "    capture_group=Sequence(\"(\",alternation,\")\") do v\n",
    "                Capture(v[2])\n",
    "    end;\n",
    "end\n",
    "push!(repeatable,capture_group);\n",
    "push!(repeatable,noncapture_group);"
   ]
  },
  {
   "cell_type": "code",
   "execution_count": 36,
   "metadata": {
    "slideshow": {
     "slide_type": "slide"
    }
   },
   "outputs": [
    {
     "data": {
      "text/plain": [
       "\u001b[0m\u001b[1m🗄\u001b[22m\u001b[0m Sequence |> map(#33) |> with_name(:\u001b[31m\u001b[1malternation\u001b[22m\u001b[39m)\n",
       "├─ \u001b[0m\u001b[1m🗄\u001b[22m\u001b[36m\u001b[1m*\u001b[22m\u001b[39m\u001b[0m Sequence |> map(#33) |> with_name(:\u001b[31m\u001b[1mquantified\u001b[22m\u001b[39m) |> Repeat |> map(#33) |> with_name(:\u001b[31m\u001b[1msequence\u001b[22m\u001b[39m)\n",
       "│  ├─ \u001b[36m\u001b[1m|\u001b[22m\u001b[39m\u001b[0m\u001b[1m🗄\u001b[22m\u001b[36m\u001b[1m...\u001b[22m\u001b[39m\u001b[0m Either\n",
       "│  │  ├─ \u001b[36m\u001b[1m|\u001b[22m\u001b[39m\u001b[0m\u001b[1m🗄\u001b[22m\u001b[36m\u001b[1m...\u001b[22m\u001b[39m\u001b[0m Either |> map(#25)\n",
       "│  │  │  ├─ \u001b[36m\u001b[1m[^\\\\\\^\\$\\.\\[\\|\\(\\)\\?\\*\\+\\{]\u001b[22m\u001b[39m\u001b[0m  |> with_name(:\u001b[31m\u001b[1mcharacter\u001b[22m\u001b[39m)\n",
       "│  │  │  └─ \u001b[0m\u001b[1m🗄\u001b[22m\u001b[0m Sequence |> map(#31) |> with_name(:\u001b[31m\u001b[1mescaped meta\u001b[22m\u001b[39m)\n",
       "│  │  │     ├─ \u001b[36m\u001b[1m\\\\\u001b[22m\u001b[39m\u001b[0m \n",
       "│  │  │     │  ⋮\n",
       "│  │  │     │  \n",
       "│  │  │     └─ \u001b[36m\u001b[1m[\\\\\\^\\$\\.\\[\\|\\(\\)\\?\\*\\+\\{]\u001b[22m\u001b[39m\u001b[0m \n",
       "│  │  │        ⋮\n",
       "│  │  │        \n",
       "│  │  ├─ \u001b[0m\u001b[1m🗄\u001b[22m\u001b[0m Sequence |> map(#33) |> with_name(:\u001b[31m\u001b[1mcapture_group\u001b[22m\u001b[39m)\n",
       "│  │  │  ├─ \u001b[36m\u001b[1m\\(\u001b[22m\u001b[39m\u001b[0m \n",
       "│  │  │  ├─ \u001b[36m\u001b[1m|\u001b[22m\u001b[39m\u001b[0m\u001b[1m🗄\u001b[22m\u001b[36m\u001b[1m...\u001b[22m\u001b[39m\u001b[0m Either\n",
       "│  │  │  │  ├─ \u001b[0m\u001b[1m🗄\u001b[22m\u001b[0m Sequence |> map(#31)\n",
       "│  │  │  │  │  ⋮\n",
       "│  │  │  │  │  \n",
       "│  │  │  │  ├─ \u001b[0m\u001b[1m🗄\u001b[22m\u001b[0m Sequence |> map(#31)\n",
       "│  │  │  │  │  ⋮\n",
       "│  │  │  │  │  \n",
       "│  │  │  │  ├─ \u001b[0m\u001b[1m🗄\u001b[22m\u001b[0m Sequence |> map(#31)\n",
       "│  │  │  │  │  ⋮\n",
       "│  │  │  │  │  \n",
       "│  │  │  │  └─ \u001b[0m \n",
       "│  │  │  │     ⋮\n",
       "│  │  │  │     \n",
       "│  │  │  ├─ \u001b[0m\u001b[1m🗄\u001b[22m\u001b[0m Sequence |> map(#33) |> with_name(:\u001b[31m\u001b[1malternation\u001b[22m\u001b[39m)\n",
       "│  │  │  │  ├─ \u001b[0m\u001b[1m🗄\u001b[22m\u001b[36m\u001b[1m*\u001b[22m\u001b[39m\u001b[0m Sequence |> map(#33) |> with_name(:\u001b[31m\u001b[1mquantified\u001b[22m\u001b[39m) |> Repeat |> map(#33) |> with_name(:\u001b[31m\u001b[1msequence\u001b[22m\u001b[39m)\u001b[90m # branches hidden\u001b[39m\n",
       "│  │  │  │  │  ⋮\n",
       "│  │  │  │  │  \n",
       "│  │  │  │  └─ \u001b[0m\u001b[1m🗄\u001b[22m\u001b[36m\u001b[1m*\u001b[22m\u001b[39m\u001b[0m Sequence |> map(#31) |> Repeat\u001b[90m # branches hidden\u001b[39m\n",
       "│  │  │  │     ⋮\n",
       "│  │  │  │     \n",
       "│  │  │  └─ \u001b[36m\u001b[1m\\)\u001b[22m\u001b[39m\u001b[0m \n",
       "│  │  └─ \u001b[0m\u001b[1m🗄\u001b[22m\u001b[0m Sequence |> map(#31) |> with_name(:\u001b[31m\u001b[1mnoncapture_group\u001b[22m\u001b[39m)\n",
       "│  │     ├─ \u001b[36m\u001b[1m\\(\\?\\:\u001b[22m\u001b[39m\u001b[0m \n",
       "│  │     ├─ \u001b[0m\u001b[1m🗄\u001b[22m\u001b[0m Sequence |> map(#33) |> with_name(:\u001b[31m\u001b[1malternation\u001b[22m\u001b[39m)\u001b[90m # branches hidden\u001b[39m\n",
       "│  │     └─ \u001b[36m\u001b[1m\\)\u001b[22m\u001b[39m\u001b[0m \n",
       "│  ├─ \u001b[36m\u001b[1m|\u001b[22m\u001b[39m\u001b[0m\u001b[1m🗄\u001b[22m\u001b[36m\u001b[1m...?\u001b[22m\u001b[39m\u001b[0m Either |> Optional(default=(1, 1)) |> with_name(:\u001b[31m\u001b[1mrepetition\u001b[22m\u001b[39m)\n",
       "│  │  ├─ \u001b[36m\u001b[1m\\?\u001b[22m\u001b[39m\u001b[0m  |> map(#19)\n",
       "│  │  ├─ \u001b[36m\u001b[1m\\+\u001b[22m\u001b[39m\u001b[0m  |> map(#19)\n",
       "│  │  ├─ \u001b[36m\u001b[1m\\*\u001b[22m\u001b[39m\u001b[0m  |> map(#19)\n",
       "│  │  └─ \u001b[0m\u001b[1m🗄\u001b[22m\u001b[0m Sequence |> map(#33)\n",
       "│  │     ├─ \u001b[36m\u001b[1m\\{\u001b[22m\u001b[39m\u001b[0m \n",
       "│  │     ├─ \u001b[0m\u001b[1m🗄\u001b[22m\u001b[0m Sequence |> map(#33)\n",
       "│  │     │  ├─ \u001b[36m\u001b[1m\\-\u001b[22m\u001b[39m\u001b[36m\u001b[1m?\u001b[22m\u001b[39m\u001b[0m  |> Optional(default=missing)\n",
       "│  │     │  │  ⋮\n",
       "│  │     │  │  \n",
       "│  │     │  └─ \u001b[36m\u001b[1m[0-9]\u001b[22m\u001b[39m\u001b[36m\u001b[1m+\u001b[22m\u001b[39m\u001b[0m  |> Repeat |> map(#31)\n",
       "│  │     │     ⋮\n",
       "│  │     │     \n",
       "│  │     ├─ \u001b[0m\u001b[1m🗄\u001b[22m\u001b[36m\u001b[1m?\u001b[22m\u001b[39m\u001b[0m Sequence |> map(#31) |> Optional(default=missing)\n",
       "│  │     │  ├─ \u001b[36m\u001b[1m,\u001b[22m\u001b[39m\u001b[0m \n",
       "│  │     │  │  ⋮\n",
       "│  │     │  │  \n",
       "│  │     │  └─ \u001b[0m\u001b[1m🗄\u001b[22m\u001b[36m\u001b[1m?\u001b[22m\u001b[39m\u001b[0m Sequence |> map(#33) |> Optional(default=9223372036854775807)\n",
       "│  │     │     ⋮\n",
       "│  │     │     \n",
       "│  │     └─ \u001b[36m\u001b[1m\\}\u001b[22m\u001b[39m\u001b[0m \n",
       "│  └─ \u001b[36m\u001b[1m[\\+\\?]\u001b[22m\u001b[39m\u001b[36m\u001b[1m?\u001b[22m\u001b[39m\u001b[0m  |> map(#33) |> Optional(default=missing)\n",
       "└─ \u001b[0m\u001b[1m🗄\u001b[22m\u001b[36m\u001b[1m*\u001b[22m\u001b[39m\u001b[0m Sequence |> map(#31) |> Repeat\n",
       "   ├─ \u001b[36m\u001b[1m\\|\u001b[22m\u001b[39m\u001b[0m \n",
       "   └─ \u001b[0m\u001b[1m🗄\u001b[22m\u001b[36m\u001b[1m*\u001b[22m\u001b[39m\u001b[0m Sequence |> map(#33) |> with_name(:\u001b[31m\u001b[1mquantified\u001b[22m\u001b[39m) |> Repeat |> map(#33) |> with_name(:\u001b[31m\u001b[1msequence\u001b[22m\u001b[39m)\u001b[90m # branches hidden\u001b[39m\n"
      ]
     },
     "execution_count": 36,
     "metadata": {},
     "output_type": "execute_result"
    }
   ],
   "source": [
    "alternation\n",
    "## is a parser"
   ]
  },
  {
   "cell_type": "code",
   "execution_count": 44,
   "metadata": {
    "slideshow": {
     "slide_type": "slide"
    }
   },
   "outputs": [
    {
     "name": "stdout",
     "output_type": "stream",
     "text": [
      "result_type(alternation) = AbstractParser\n",
      "\u001b[32m\u001b[1m   match \u001b[22m\u001b[39msequence: \u001b[0m(\u001b[33m?:a|b)\u001b[39m\n",
      "\u001b[32m\u001b[1m   match \u001b[22m\u001b[39malternation: \u001b[0m(\u001b[33m?:a|b)\u001b[39m\n",
      "\u001b[32m\u001b[1m   match \u001b[22m\u001b[39mcharacter: \u001b[0m(?:\u001b[32m\u001b[1ma\u001b[22m\u001b[39m\u001b[33m|b)+\u001b[39m\n",
      "\u001b[32m\u001b[1m   match \u001b[22m\u001b[39mrepetition: \u001b[0m(?:a\u001b[33m|b)+\u001b[39m\n",
      "\u001b[32m\u001b[1m   match \u001b[22m\u001b[39mquantified: \u001b[0m(?:\u001b[32m\u001b[1ma\u001b[22m\u001b[39m\u001b[33m|b)+\u001b[39m\n",
      "\u001b[32m\u001b[1m   match \u001b[22m\u001b[39msequence: \u001b[0m(?:\u001b[32m\u001b[1ma\u001b[22m\u001b[39m\u001b[33m|b)+\u001b[39m\n",
      "\u001b[32m\u001b[1m   match \u001b[22m\u001b[39mcharacter: \u001b[0m(?:a|\u001b[32m\u001b[1mb\u001b[22m\u001b[39m\u001b[33m)+\u001b[39m\n",
      "\u001b[32m\u001b[1m   match \u001b[22m\u001b[39mrepetition: \u001b[0m?:a|b\u001b[33m)+\u001b[39m\n",
      "\u001b[32m\u001b[1m   match \u001b[22m\u001b[39mquantified: \u001b[0m(?:a|\u001b[32m\u001b[1mb\u001b[22m\u001b[39m\u001b[33m)+\u001b[39m\n",
      "\u001b[32m\u001b[1m   match \u001b[22m\u001b[39msequence: \u001b[0m(?:a|\u001b[32m\u001b[1mb\u001b[22m\u001b[39m\u001b[33m)+\u001b[39m\n",
      "\u001b[32m\u001b[1m   match \u001b[22m\u001b[39malternation: \u001b[0m(?:\u001b[32m\u001b[1ma|b\u001b[22m\u001b[39m\u001b[33m)+\u001b[39m\n",
      "\u001b[32m\u001b[1m   match \u001b[22m\u001b[39mnoncapture_group: \u001b[32m\u001b[1m(?:a|b)\u001b[22m\u001b[39m\u001b[33m+\u001b[39m\n",
      "\u001b[32m\u001b[1m   match \u001b[22m\u001b[39mrepetition: \u001b[0m:a|b)\u001b[32m\u001b[1m+\u001b[22m\u001b[39m\n",
      "\u001b[32m\u001b[1m   match \u001b[22m\u001b[39mquantified: \u001b[32m\u001b[1m(?:a|b)+\u001b[22m\u001b[39m\n",
      "\u001b[32m\u001b[1m   match \u001b[22m\u001b[39msequence: \u001b[32m\u001b[1m(?:a|b)+\u001b[22m\u001b[39m\n",
      "\u001b[32m\u001b[1m   match \u001b[22m\u001b[39malternation: \u001b[32m\u001b[1m(?:a|b)+\u001b[22m\u001b[39m\n"
     ]
    },
    {
     "data": {
      "text/plain": [
       "\u001b[36m\u001b[1m|\u001b[22m\u001b[39m\u001b[0m\u001b[1m🗄\u001b[22m\u001b[36m\u001b[1m...+\u001b[22m\u001b[39m\u001b[0m Either |> Repeat\n",
       "├─ \u001b[36m\u001b[1ma\u001b[22m\u001b[39m\u001b[0m \n",
       "└─ \u001b[36m\u001b[1mb\u001b[22m\u001b[39m\u001b[0m \n"
      ]
     },
     "execution_count": 44,
     "metadata": {},
     "output_type": "execute_result"
    }
   ],
   "source": [
    "# the alternation parser transforms a regex string into a parser\n",
    "\n",
    "@show result_type(alternation)\n",
    "\n",
    "ab_parser = parse(log_names(alternation),\"(?:a|b)+\")"
   ]
  },
  {
   "cell_type": "code",
   "execution_count": 17,
   "metadata": {
    "slideshow": {
     "slide_type": "fragment"
    }
   },
   "outputs": [
    {
     "data": {
      "text/plain": [
       "ParseMatch(\"aab\")"
      ]
     },
     "execution_count": 17,
     "metadata": {},
     "output_type": "execute_result"
    }
   ],
   "source": [
    "## the ab_parser\n",
    "match(ab_parser,\"aab\")\n"
   ]
  },
  {
   "cell_type": "code",
   "execution_count": 32,
   "metadata": {
    "slideshow": {
     "slide_type": "slide"
    }
   },
   "outputs": [
    {
     "name": "stdout",
     "output_type": "stream",
     "text": [
      "parse(parse(alternation, #= In[32]:3 =# @raw_str(\"reg(ular )?ex(p(ression)?)?\\\\??\")), \"regex\") = ('r', 'e', 'g', missing, 'e', 'x', missing, missing)\n"
     ]
    },
    {
     "data": {
      "text/plain": [
       "('r', 'e', 'g', missing, 'e', 'x', missing, missing)"
      ]
     },
     "execution_count": 32,
     "metadata": {},
     "output_type": "execute_result"
    }
   ],
   "source": [
    "# We quickly wrote a parser for regular expressions that generates a PCRE equivalent CombinedParser.\n",
    "\n",
    "@show parse(parse(alternation,raw\"reg(ular )?ex(p(ression)?)?\\??\"), \"regex\")\n",
    "parse(re\"reg(ular )?ex(p(ression)?)?\\??\", \"regex\")"
   ]
  },
  {
   "cell_type": "markdown",
   "metadata": {
    "slideshow": {
     "slide_type": "slide"
    }
   },
   "source": [
    "### Looking around\n",
    "\n"
   ]
  },
  {
   "cell_type": "code",
   "execution_count": null,
   "metadata": {
    "slideshow": {
     "slide_type": "-"
    }
   },
   "outputs": [],
   "source": [
    "\n",
    "@with_names lookahead=Sequence(\n",
    "    2,\n",
    "    \"(\",\n",
    "    Either(Sequence(\n",
    "            v -> look_ahead(true,v[2]),\n",
    "            Either(\"?=\",\"*positive_lookahead:\",\"*pla:\"),\n",
    "            alternation),\n",
    "        Sequence(\n",
    "            v -> look_ahead(false,v[2]),\n",
    "            Either(\"?!\",\"*negative_lookahead:\",\"*nla:\"),\n",
    "            alternation)),\n",
    "    \")\");\n",
    "push_first!(repeatable,lookahead);\n",
    "\n",
    "\n",
    "\n",
    "@with_names lookbehind=Sequence(\n",
    "    2,\n",
    "    \"(\",\n",
    "    Either(Sequence(v -> look_behind(true,v[2]),\n",
    "            Either(\"?<=\",\"*positive_lookbehind:\",\"*plb:\"),alternation),\n",
    "        Sequence(v -> look_behind(false,v[2]),\n",
    "            Either(\"?<!\",\"*negative_lookbehind:\",\"*nlb:\"),alternation)),\n",
    "    \")\");\n",
    "push_first!(repeatable,lookbehind);\n",
    "\n"
   ]
  },
  {
   "cell_type": "code",
   "execution_count": null,
   "metadata": {},
   "outputs": [],
   "source": [
    "import CombinedParsers.Regexp: bracket\n",
    "push!(repeatable,bracket);\n",
    "bracket"
   ]
  },
  {
   "cell_type": "markdown",
   "metadata": {
    "slideshow": {
     "slide_type": "slide"
    }
   },
   "source": [
    "## Iterating matches\n"
   ]
  },
  {
   "cell_type": "code",
   "execution_count": 19,
   "metadata": {
    "slideshow": {
     "slide_type": "fragment"
    }
   },
   "outputs": [
    {
     "data": {
      "text/plain": [
       "4-element Array{Any,1}:\n",
       " (^, Union{Char, Tuple{Char,Char}}['a', 'b', 'a', 'b'], $)    \n",
       " (^, Union{Char, Tuple{Char,Char}}['a', 'b', ('a', 'b')], $)  \n",
       " (^, Union{Char, Tuple{Char,Char}}[('a', 'b'), 'a', 'b'], $)  \n",
       " (^, Union{Char, Tuple{Char,Char}}[('a', 'b'), ('a', 'b')], $)"
      ]
     },
     "execution_count": 19,
     "metadata": {},
     "output_type": "execute_result"
    }
   ],
   "source": [
    "# Backtracking and listing all matches\n",
    "parse_all(re\"^(a|ab|b)+$\",\"abab\")"
   ]
  },
  {
   "cell_type": "markdown",
   "metadata": {
    "slideshow": {
     "slide_type": "slide"
    }
   },
   "source": [
    "### Unit Tests\n",
    "The package was tested with unit tests of the PCRE C library.\n",
    "\n",
    "Some tests did not pass: 3130 passed, 123 failed, 0 errored, 0 broken.\n",
    "\n",
    "### Limitations\n",
    "- alpha release\n",
    "- no capture groups in look-behind.\n",
    "- limited PCRE functionality ACCEPT, SKIP, COMMIT, THEN, PRUNE, \\K\n",
    "\n"
   ]
  },
  {
   "cell_type": "markdown",
   "metadata": {
    "slideshow": {
     "slide_type": "slide"
    }
   },
   "source": [
    "### Performance\n",
    "Preliminary tests were encouraging, in part better than PCRE, optimization is next step.\n",
    "\n",
    "\n",
    "### Next Steps\n",
    "- Performance optimizations\n",
    "    - parsing memoization\n",
    "    - backtracking optimization for special cases with multiple dispatch\n",
    "- Documentation\n",
    "- Publishing packages for parsing wikitext and orgmode markup\n",
    "- error backtracking, stepping & debugging\n",
    "- test coverage\n"
   ]
  },
  {
   "cell_type": "code",
   "execution_count": 23,
   "metadata": {},
   "outputs": [
    {
     "name": "stdout",
     "output_type": "stream",
     "text": [
      "  1.049 μs (10 allocations: 480 bytes)\n",
      "  283.928 ns (5 allocations: 272 bytes)\n",
      "  146.067 ns (5 allocations: 272 bytes)\n"
     ]
    }
   ],
   "source": [
    "using BenchmarkTools\n",
    "\n",
    "# julia PCRE regex support\n",
    "pc = re\"a*\"\n",
    "re = r\"a*\"\n",
    "@btime match(pc,\"a\"^3);\n",
    "@btime _iterate(pc,\"a\"^3);\n",
    "@btime match(re,\"a\"^3);"
   ]
  },
  {
   "cell_type": "markdown",
   "metadata": {
    "slideshow": {
     "slide_type": "slide"
    }
   },
   "source": [
    "## Acknowledgements\n",
    "\n",
    "The work was inspired by Scala FastParse package and the Julia parsing packages\n",
    "##### Parsers.jl\n",
    "For date and primitive types.\n",
    "##### TextParse\n",
    "- used in CSV.jl\n",
    "- uses Nullables\n",
    "- CombinedParsers.AbstractParser <: TextParse.AbstractToken\n",
    "\n",
    "##### Automa.jl\n",
    "- grammar based state machine compiler\n",
    "- no UTF8 support\n",
    "\n",
    "##### ParserCombinator.jl\n",
    "- old source base (pre 2016, fixed for Julia 1.0 in 2018)\n",
    "    - using Nullables\n",
    "- no iterator API\n",
    "- performance \n",
    "    - mutable matcher types\n",
    "    - matcher types not parametric"
   ]
  },
  {
   "cell_type": "markdown",
   "metadata": {
    "slideshow": {
     "slide_type": "slide"
    }
   },
   "source": [
    "## CombinedParsers.jl\n",
    "- more expressive than regular expressions\n",
    "- provides compiled regular expression parsers in pure julia\n",
    "- arbitrary transformations with convenient syntax\n",
    "     - parsing and transformation are decoupled for optimized performance.\n",
    "     - Julia type inference for result_types\n",
    "- logging helps debugging complex parsers.\n",
    "- higher-order parsers depending on the parsing state\n",
    "- iterate interface to lazily generate all valid parsings\n",
    "- TextParse interface to include ParserIterators e.g. in CSV.jl.\n",
    "- generalize from strings to parsing any iterator type\n",
    "- MIT licenced, https://github.com/gkappler/CombinedParsers.jl\n",
    "\n",
    "\n",
    "\n",
    "### Collaborations are very welcome!"
   ]
  },
  {
   "cell_type": "markdown",
   "metadata": {
    "slideshow": {
     "slide_type": "slide"
    }
   },
   "source": [
    "### Evaluating Parser for arithmetic expressions"
   ]
  },
  {
   "cell_type": "code",
   "execution_count": 25,
   "metadata": {},
   "outputs": [
    {
     "data": {
      "text/plain": [
       "1//42"
      ]
     },
     "execution_count": 25,
     "metadata": {},
     "output_type": "execute_result"
    }
   ],
   "source": [
    "\n",
    "function eval_(v)\n",
    "    x = v[1]\n",
    "    for (op,val) in v[2]\n",
    "        x = if op=='+'\n",
    "            x + val\n",
    "        elseif op=='-'\n",
    "            x - val\n",
    "        elseif op=='*'\n",
    "            x * val\n",
    "        elseif op=='/'\n",
    "            x // val\n",
    "        end\n",
    "    end\n",
    "    x::Rational\n",
    "end\n",
    "\n",
    "\n",
    "@with_names begin\n",
    "    number = map(Rational,integer)\n",
    "    factor = Either{Rational}( Any[number] )\n",
    "    divMul = map( eval_, \n",
    "        Sequence( factor, Repeat( CharIn(\"*/\"), factor ) ) )\n",
    "    addSub = map( eval_,\n",
    "        Sequence( divMul, Repeat( CharIn(\"+-\"), divMul ) ) )\n",
    "    parens = Sequence(2, \"(\",addSub,\")\" )\n",
    "    push!(factor, parens)\n",
    "end;\n",
    "\n",
    "expr = Sequence(1, addSub, AtEnd() )\n",
    "parse(expr, \"1/((1+2)*4+3*(5*2))\")\n"
   ]
  },
  {
   "cell_type": "code",
   "execution_count": null,
   "metadata": {
    "slideshow": {
     "slide_type": "fragment"
    }
   },
   "outputs": [],
   "source": [
    "Ultimately, is every rational answer the inverse of a universal question in life?"
   ]
  }
 ],
 "metadata": {
  "@webio": {
   "lastCommId": null,
   "lastKernelId": null
  },
  "celltoolbar": "Slideshow",
  "kernelspec": {
   "display_name": "Julia 1.3.1",
   "language": "julia",
   "name": "julia-1.3"
  },
  "language_info": {
   "file_extension": ".jl",
   "mimetype": "application/julia",
   "name": "julia",
   "version": "1.3.1"
  },
  "rise": {
   "enable_chalkboard": true
  }
 },
 "nbformat": 4,
 "nbformat_minor": 2
}
