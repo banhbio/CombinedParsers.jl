{
 "cells": [
  {
   "cell_type": "markdown",
   "metadata": {
    "slideshow": {
     "slide_type": "slide"
    }
   },
   "source": [
    "## CombinedParsers in pure Julia\n",
    "\n",
    "\n",
    "https://en.wiktionary.org/wiki/parse#Etymology\n",
    "> Possibly from Middle English pars (“parts, shares; parts of speech, grammar”), from Old French pars (plural of part (“part, portion, share”)), from Latin pars (“part, piece, share”), possibly from Proto-Indo-European *per- (“to carry forth; to sell”).\n",
    "\n",
    "Parsing is a recurring annoyance when preparing data for computing...\n",
    "\n"
   ]
  },
  {
   "cell_type": "markdown",
   "metadata": {
    "slideshow": {
     "slide_type": "slide"
    }
   },
   "source": [
    "### Regular languages\n",
    "- regular expressions: syntax of the standard parsing language\n",
    "- parser generators: compiled grammars and state machines\n",
    "\n",
    "separated grammar and transformation (start, stop hooks)\n",
    "\n",
    "\n",
    "### Parser Combinators\n",
    "- syntax and transformation in a functional paradigm\n",
    "- Julia-compiler: parametric types and multiple dispatch\n",
    "\n",
    "type-safe, integrated grammar and transformation\n"
   ]
  },
  {
   "cell_type": "markdown",
   "metadata": {
    "slideshow": {
     "slide_type": "skip"
    }
   },
   "source": [
    "\n",
    "#### Parsing the audience\n",
    "- regular expressions?\n",
    "- grammar based parser generators (ANTLR,...)?\n",
    "- hand-coded parsers?\n",
    "\n",
    "Did you experience some despair?"
   ]
  },
  {
   "cell_type": "markdown",
   "metadata": {
    "slideshow": {
     "slide_type": "slide"
    }
   },
   "source": [
    "## CombinedParsers.jl\n",
    "I needed a flexible fast parsing machinery, and wrote a optimizable parser combinator from scratch to learn Julia parametric types and multiple dispatch.\n",
    "\n",
    "Design goals:\n",
    "- easy syntax\n",
    "- transformation @ grammar, type safety and validation\n",
    "- iterating possible parsings\n",
    "- fast\n",
    "\n",
    "Install with\n",
    "```\n",
    "] add https://github.com/gkappler/CombinedParsers.jl\n",
    "```"
   ]
  },
  {
   "cell_type": "markdown",
   "metadata": {
    "slideshow": {
     "slide_type": "skip"
    }
   },
   "source": [
    "Following performance recommendations of Julia 1.0\n",
    "- small Union{Nothing,T} instead of Nullable{T}\n",
    "- iterable interface\n",
    "- parametric immutable matcher types for compiler optimizations with generated functions"
   ]
  },
  {
   "cell_type": "markdown",
   "metadata": {
    "slideshow": {
     "slide_type": "slide"
    }
   },
   "source": [
    "Recurring point of this presentation: recursion and regular languages:\n",
    "\n",
    "#### The presentation outlines a CombinedParser for PCRE syntax, which generates julia-compiled parsers for regular expressions equivalent with the PCRE C library.\n",
    "\n",
    "You will \n",
    "- refresh your regular expression knowledge while you\n",
    "- learn the matching, transformation and logging API of CombinedParsers.jl.\n"
   ]
  },
  {
   "cell_type": "markdown",
   "metadata": {
    "slideshow": {
     "slide_type": "slide"
    }
   },
   "source": [
    "## Regular expressions: ```match``` Strings\n",
    "\n",
    "A regular expression is a String, most characters define a matcher for a Char identical to that character (```r\"a\"``` matches ```\"a\"```).  Meta-characters like `?` for optional matching need to be escaped with ```\\```. Parenthesis define subexpressions.\n",
    "\n",
    "CombinedParsers provides ```@re_str``` macro as a plug-in replacement for the base Julia ```@r_str``` macro.\n"
   ]
  },
  {
   "cell_type": "code",
   "execution_count": 42,
   "metadata": {
    "slideshow": {
     "slide_type": "fragment"
    }
   },
   "outputs": [
    {
     "data": {
      "text/plain": [
       "RegexMatch(\"regexp\", 1=nothing, 2=\"p\", 3=nothing)"
      ]
     },
     "execution_count": 42,
     "metadata": {},
     "output_type": "execute_result"
    }
   ],
   "source": [
    "# Base Julia PCRE regular expressions\n",
    "match(r\"reg(ular )?ex(p(ression)?)?\\??\"i,\"regexp\")"
   ]
  },
  {
   "cell_type": "code",
   "execution_count": 43,
   "metadata": {
    "slideshow": {
     "slide_type": "fragment"
    }
   },
   "outputs": [
    {
     "data": {
      "text/plain": [
       "ParseMatch(\"Regular Expression?\", 1=\"ular \", 2=\"pression\", 3=\"ression\")"
      ]
     },
     "execution_count": 43,
     "metadata": {},
     "output_type": "execute_result"
    }
   ],
   "source": [
    "using CombinedParsers\n",
    "using CombinedParsers.Regexp\n",
    "match(re\"reg(ular )?ex(p(ression)?)?\\??\"i,\"Regular Expression?\")"
   ]
  },
  {
   "cell_type": "markdown",
   "metadata": {
    "slideshow": {
     "slide_type": "slide"
    }
   },
   "source": [
    "## Parsing and Transformations\n",
    "```match``` searches for the first match of the Regex in the String and return a `RegexMatch`/`Parsematch` object containing the match and captures, or nothing if the match failed.\n",
    "This is very limiting.\n",
    "\n",
    "CombinedParser also can ```parse``` a string, resulting in an instance of ```result_type(p)```, by default nested Tuple and Vector of Chars and Missing.\n"
   ]
  },
  {
   "cell_type": "code",
   "execution_count": 44,
   "metadata": {
    "slideshow": {
     "slide_type": "fragment"
    }
   },
   "outputs": [
    {
     "name": "stdout",
     "output_type": "stream",
     "text": [
      "result_type(p) = Tuple{Char,Char,Char,Union{Missing, NTuple{5,Char}},Char,Char,Union{Missing, Tuple{Char,Union{Missing, NTuple{7,Char}}}},Union{Missing, Char}}\n"
     ]
    },
    {
     "data": {
      "text/plain": [
       "('R', 'e', 'g', missing, 'e', 'x', ('p', missing), missing)"
      ]
     },
     "execution_count": 44,
     "metadata": {},
     "output_type": "execute_result"
    }
   ],
   "source": [
    "p = re\"reg(ular )?ex(p(ression)?)?\\??\"i\n",
    "@show result_type(p)\n",
    "parse(p,\"Regexp\")"
   ]
  },
  {
   "cell_type": "markdown",
   "metadata": {
    "slideshow": {
     "slide_type": "slide"
    }
   },
   "source": [
    "## Regular expressions: Either, Characters, and logging\n",
    "\n",
    "Lets build the major scaffold of the parser for regular expressions from scratch now!"
   ]
  },
  {
   "cell_type": "code",
   "execution_count": 45,
   "metadata": {},
   "outputs": [
    {
     "data": {
      "text/plain": [
       "\u001b[36m\u001b[1m|\u001b[22m\u001b[39m\u001b[0m\u001b[1m🗄\u001b[22m\u001b[36m\u001b[1m...\u001b[22m\u001b[39m\u001b[0m Either\n",
       "├─ \u001b[36m\u001b[1m[^^\\[\\)\\?\\(\\*\\\\\\|\\+\\$\\^\\.\\{]\u001b[22m\u001b[39m\u001b[0m CharNotIn |> with_name(:\u001b[31m\u001b[1mcharacter\u001b[22m\u001b[39m)\n",
       "└─ \u001b[0m\u001b[1m🗄\u001b[22m\u001b[0m Sequence |> map(#54) |> with_name(:\u001b[31m\u001b[1mescaped meta\u001b[22m\u001b[39m)\n",
       "   ├─ \u001b[36m\u001b[1m\\\\\u001b[22m\u001b[39m\u001b[0m \n",
       "   └─ \u001b[36m\u001b[1m[\\[\\)\\?\\(\\*\\\\\\|\\+\\$\\^\\.\\{]\u001b[22m\u001b[39m\u001b[0m CharIn\n",
       "::Char\n"
      ]
     },
     "execution_count": 45,
     "metadata": {},
     "output_type": "execute_result"
    }
   ],
   "source": [
    "import CombinedParsers.Regexp: meta_chars\n",
    "\n",
    "char_matcher =  Either(\n",
    "    \n",
    "    with_name(\"character\", \n",
    "        CharNotIn([ c for c in meta_chars])),\n",
    "    \n",
    "    with_name(\"escaped meta\", \n",
    "        Sequence(2, # emit unescaped\n",
    "            '\\\\', CharIn(meta_chars)))\n",
    "    \n",
    ")"
   ]
  },
  {
   "cell_type": "code",
   "execution_count": 46,
   "metadata": {
    "slideshow": {
     "slide_type": "skip"
    }
   },
   "outputs": [
    {
     "ename": "UndefVarError",
     "evalue": "UndefVarError: char not defined",
     "output_type": "error",
     "traceback": [
      "UndefVarError: char not defined",
      "",
      "Stacktrace:",
      " [1] top-level scope at show.jl:562",
      " [2] top-level scope at In[46]:1"
     ]
    }
   ],
   "source": [
    "@show pcre = Regex(regex_string(char))\n",
    "\n",
    "@show match(pcre,\"a\")\n",
    "@show match(pcre,\"\\\\[\")\n",
    "\n",
    "@show match(log_names(char),\"a\")\n",
    "@show match(char,\"\\\\[\"; log=true)"
   ]
  },
  {
   "cell_type": "markdown",
   "metadata": {
    "slideshow": {
     "slide_type": "slide"
    }
   },
   "source": [
    "### Transforming a Parsing\n",
    "The Julia ```map``` method for `CombinedParser` creates a transforming parser.\n",
    "The parser for escaped and not escaped regular expression characters ```char``` can be transformed to emit not the `Char` but an `CharIn<:CombinedParser` matching the unescaped character."
   ]
  },
  {
   "cell_type": "code",
   "execution_count": 47,
   "metadata": {
    "scrolled": true,
    "slideshow": {
     "slide_type": "fragment"
    }
   },
   "outputs": [
    {
     "name": "stdout",
     "output_type": "stream",
     "text": [
      "result_type(char_matcher) = Char\n",
      "parsed_obracket = parse(char_matcher, \"\\\\[\") = '['\n"
     ]
    },
    {
     "data": {
      "text/plain": [
       "'[': ASCII/Unicode U+005b (category Ps: Punctuation, open)"
      ]
     },
     "execution_count": 47,
     "metadata": {},
     "output_type": "execute_result"
    }
   ],
   "source": [
    "@show result_type(char_matcher)\n",
    "\n",
    "@show parsed_obracket = parse(char_matcher,\"\\\\[\")"
   ]
  },
  {
   "cell_type": "code",
   "execution_count": 48,
   "metadata": {
    "scrolled": true
   },
   "outputs": [
    {
     "name": "stdout",
     "output_type": "stream",
     "text": [
      "result_type(char_parser_parser) = CharIn\n",
      "parsed_obracket_parser = parse(char_parser_parser, \"\\\\[\") = re\"\\[\"\n"
     ]
    },
    {
     "data": {
      "text/plain": [
       "'[': ASCII/Unicode U+005b (category Ps: Punctuation, open)"
      ]
     },
     "execution_count": 48,
     "metadata": {},
     "output_type": "execute_result"
    }
   ],
   "source": [
    "char_parser_parser = map(CharIn,char_matcher)\n",
    "@show result_type(char_parser_parser)\n",
    "\n",
    "@show parsed_obracket_parser = parse(char_parser_parser,\"\\\\[\")\n",
    "\n",
    "parse(parsed_obracket_parser,\"[\")"
   ]
  },
  {
   "cell_type": "markdown",
   "metadata": {
    "slideshow": {
     "slide_type": "slide"
    }
   },
   "source": [
    "### Repeat, Transformation, and Sequence\n",
    "A basic feature of regular expression is whether a repeatable pattern (e.g. a char) is optional `?`, or should be repeated at least once `+`, any times `*`, or `{min,max}` times.\n",
    "\n",
    "The CombinedParser to parse the `(min, max)` tuple from PCRE syntax:"
   ]
  },
  {
   "cell_type": "code",
   "execution_count": 49,
   "metadata": {},
   "outputs": [
    {
     "data": {
      "text/plain": [
       "\u001b[0m\u001b[1m🗄\u001b[22m\u001b[0m Sequence |> map(#46) |> with_name(:\u001b[31m\u001b[1mcurly_repetition\u001b[22m\u001b[39m)\n",
       "├─ \u001b[36m\u001b[1m\\{\u001b[22m\u001b[39m\u001b[0m \n",
       "├─ \u001b[0m\u001b[1m🗄\u001b[22m\u001b[0m Sequence |> map(#46)\n",
       "│  ├─ \u001b[36m\u001b[1m\\-\u001b[22m\u001b[39m\u001b[36m\u001b[1m?\u001b[22m\u001b[39m\u001b[0m  |> Optional(default=missing)\n",
       "│  └─ \u001b[36m\u001b[1m[0123476985]\u001b[22m\u001b[39m\u001b[36m\u001b[1m+\u001b[22m\u001b[39m\u001b[0m CharIn |> Repeat |> map(#46)\n",
       "├─ \u001b[0m\u001b[1m🗄\u001b[22m\u001b[36m\u001b[1m?\u001b[22m\u001b[39m\u001b[0m Sequence |> map(#54) |> Optional(default=missing)\n",
       "│  ├─ \u001b[36m\u001b[1m,\u001b[22m\u001b[39m\u001b[0m \n",
       "│  └─ \u001b[0m\u001b[1m🗄\u001b[22m\u001b[36m\u001b[1m?\u001b[22m\u001b[39m\u001b[0m Sequence |> map(#46) |> Optional(default=9223372036854775807)\n",
       "│     ├─ \u001b[36m\u001b[1m\\-\u001b[22m\u001b[39m\u001b[36m\u001b[1m?\u001b[22m\u001b[39m\u001b[0m  |> Optional(default=missing)\n",
       "│     └─ \u001b[36m\u001b[1m[0123476985]\u001b[22m\u001b[39m\u001b[36m\u001b[1m+\u001b[22m\u001b[39m\u001b[0m CharIn |> Repeat |> map(#46)\n",
       "└─ \u001b[36m\u001b[1m\\}\u001b[22m\u001b[39m\u001b[0m \n",
       "::Tuple{Int64,Int64}\n"
      ]
     },
     "execution_count": 49,
     "metadata": {},
     "output_type": "execute_result"
    }
   ],
   "source": [
    "import CombinedParsers.Regexp: integer\n",
    "\n",
    "# https://www.pcre.org/original/doc/html/pcrepattern.html#SEC17\n",
    "@with_names curly_repetition = Sequence(\n",
    "        \"{\", integer, \n",
    "            Optional( Sequence(2,\",\", Optional(integer, default=typemax(Int)))),\n",
    "        \"}\") do v  # the do syntax implicitly calling map on the sequence\n",
    "            if v[3] isa Missing\n",
    "                (v[2],v[2])\n",
    "            else\n",
    "                (v[2],v[3])\n",
    "            end::Tuple{Int,Int}\n",
    "end"
   ]
  },
  {
   "cell_type": "code",
   "execution_count": 50,
   "metadata": {
    "slideshow": {
     "slide_type": "slide"
    }
   },
   "outputs": [
    {
     "name": "stdout",
     "output_type": "stream",
     "text": [
      "result_type(repetition) = Tuple{Int64,Int64}\n",
      "parse(repetition, \"?\") = (0, 1)\n",
      "parse(repetition, \"{1}\") = (1, 1)\n",
      "parse(repetition, \"{1,}\") = (1, 9223372036854775807)\n"
     ]
    }
   ],
   "source": [
    "import CombinedParsers.Regexp: integer\n",
    "\n",
    "# https://www.pcre.org/original/doc/html/pcrepattern.html#SEC17\n",
    "@with_names repetition = Either(\n",
    "    \"?\" => (0,1), #  `Pair` syntax to map a match to a constant\n",
    "    \n",
    "    \"+\" => (1,typemax(Int)),\n",
    "    \"*\" => (0,typemax(Int)),\n",
    "    curly_repetition\n",
    ")\n",
    "\n",
    "@show result_type(repetition)\n",
    "@show parse(repetition, \"?\")\n",
    "@show parse(repetition, \"{1}\");\n",
    "@show parse(repetition, \"{1,}\");"
   ]
  },
  {
   "cell_type": "markdown",
   "metadata": {
    "slideshow": {
     "slide_type": "slide"
    }
   },
   "source": [
    "### Recursion with mutable Either\n",
    "The character matcher is the simplest repeatable pattern.\n",
    "\n",
    "Capture and non-capture groups will be defined later, and can then be pushed to `repeatable`."
   ]
  },
  {
   "cell_type": "code",
   "execution_count": 51,
   "metadata": {},
   "outputs": [
    {
     "data": {
      "text/plain": [
       "\u001b[36m\u001b[1m|\u001b[22m\u001b[39m\u001b[0m\u001b[1m🗄\u001b[22m\u001b[36m\u001b[1m...\u001b[22m\u001b[39m\u001b[0m Either\n",
       "└─ \u001b[36m\u001b[1m|\u001b[22m\u001b[39m\u001b[0m\u001b[1m🗄\u001b[22m\u001b[36m\u001b[1m...\u001b[22m\u001b[39m\u001b[0m Either |> map(#48)\n",
       "   ├─ \u001b[36m\u001b[1m[^^\\[\\)\\?\\(\\*\\\\\\|\\+\\$\\^\\.\\{]\u001b[22m\u001b[39m\u001b[0m CharNotIn |> with_name(:\u001b[31m\u001b[1mcharacter\u001b[22m\u001b[39m)\n",
       "   └─ \u001b[0m\u001b[1m🗄\u001b[22m\u001b[0m Sequence |> map(#54) |> with_name(:\u001b[31m\u001b[1mescaped meta\u001b[22m\u001b[39m)\n",
       "      ├─ \u001b[36m\u001b[1m\\\\\u001b[22m\u001b[39m\u001b[0m \n",
       "      └─ \u001b[36m\u001b[1m[\\[\\)\\?\\(\\*\\\\\\|\\+\\$\\^\\.\\{]\u001b[22m\u001b[39m\u001b[0m CharIn\n",
       "::CombinedParser\n"
      ]
     },
     "execution_count": 51,
     "metadata": {},
     "output_type": "execute_result"
    }
   ],
   "source": [
    "repeatable = Either{CombinedParser}(\n",
    "    Any[char_parser_parser])\n"
   ]
  },
  {
   "cell_type": "markdown",
   "metadata": {
    "slideshow": {
     "slide_type": "slide"
    }
   },
   "source": [
    "### Repeated patterns, Optional, Lazy and Atomic\n"
   ]
  },
  {
   "cell_type": "code",
   "execution_count": 52,
   "metadata": {
    "slideshow": {
     "slide_type": "-"
    }
   },
   "outputs": [],
   "source": [
    "@with_names quantified=Sequence(\n",
    "        repeatable,\n",
    "        Optional(repetition, default=(1,1)),\n",
    "        Optional(map(v->convert(Char,v),CharIn('+','?'))) # possessive quantifier\n",
    "    ) do v\n",
    "        pat = v[1]\n",
    "        result = if v[2]==(1,1)\n",
    "            pat\n",
    "        elseif v[2]==(0,1)\n",
    "            Optional(pat)\n",
    "        else\n",
    "            Repeat(pat,v[2])\n",
    "        end\n",
    "        if v[3] === missing\n",
    "            result\n",
    "        elseif v[3]=='+'\n",
    "            Atomic(result)\n",
    "        elseif v[3]=='?'\n",
    "            Lazy(result)\n",
    "        else\n",
    "            result\n",
    "        end\n",
    "    end;"
   ]
  },
  {
   "cell_type": "code",
   "execution_count": 53,
   "metadata": {
    "slideshow": {
     "slide_type": "slide"
    }
   },
   "outputs": [
    {
     "name": "stdout",
     "output_type": "stream",
     "text": [
      "\u001b[32m\u001b[1m   match \u001b[22m\u001b[39mescaped meta: \u001b[32m\u001b[1m\\\\+\u001b[22m\u001b[39m\u001b[33m+?\u001b[39m\n",
      "\u001b[32m\u001b[1m   match \u001b[22m\u001b[39mrepetition: \u001b[0m\\\\+\u001b[32m\u001b[1m+\u001b[22m\u001b[39m\u001b[33m?\u001b[39m\n",
      "\u001b[32m\u001b[1m   match \u001b[22m\u001b[39mquantified: \u001b[32m\u001b[1m\\\\++?\u001b[22m\u001b[39m\n"
     ]
    },
    {
     "data": {
      "text/plain": [
       "\u001b[36m\u001b[1m\\+\u001b[22m\u001b[39m\u001b[36m\u001b[1m{1,9223372036854775807}?\u001b[22m\u001b[39m\u001b[0m  |> Repeat |> Lazy\n",
       "::Array{Char,1}\n"
      ]
     },
     "execution_count": 53,
     "metadata": {},
     "output_type": "execute_result"
    }
   ],
   "source": [
    "parse(log_names(quantified), raw\"\\++?\")"
   ]
  },
  {
   "cell_type": "markdown",
   "metadata": {
    "slideshow": {
     "slide_type": "slide"
    }
   },
   "source": [
    "### Sequences and Alternations\n",
    "Regular expression patterns can be written in sequence, delimited by `|` for matching either one of several alternatives."
   ]
  },
  {
   "cell_type": "code",
   "execution_count": 54,
   "metadata": {},
   "outputs": [],
   "source": [
    "@with_names begin\n",
    "    sequence = map( v->sSequence(v...),\n",
    "        Repeat( quantified ))\n",
    "\n",
    "    alternation = Sequence(\n",
    "        sequence, \n",
    "        Repeat(Sequence(2, '|',sequence))) do v\n",
    "            sEither(v[1],v[2]...)::CombinedParser\n",
    "        end\n",
    "end;"
   ]
  },
  {
   "cell_type": "markdown",
   "metadata": {
    "slideshow": {
     "slide_type": "slide"
    }
   },
   "source": [
    "### Captures\n",
    "Parentheses allow groupings that are repeatable."
   ]
  },
  {
   "cell_type": "code",
   "execution_count": 55,
   "metadata": {},
   "outputs": [],
   "source": [
    "import CombinedParsers.Regexp: name\n",
    "\n",
    "@with_names begin\n",
    "    noncapture_group=Sequence( 2, \"(?:\",alternation,\")\")\n",
    "\n",
    "    capture_group=Sequence(\"(\",alternation,\")\") do v\n",
    "                Capture(v[2])\n",
    "    end;\n",
    "end\n",
    "push!(repeatable,capture_group);\n",
    "push!(repeatable,noncapture_group);"
   ]
  },
  {
   "cell_type": "code",
   "execution_count": 56,
   "metadata": {
    "slideshow": {
     "slide_type": "slide"
    }
   },
   "outputs": [
    {
     "data": {
      "text/plain": [
       "\u001b[0m\u001b[1m🗄\u001b[22m\u001b[0m Sequence |> map(#46) |> with_name(:\u001b[31m\u001b[1malternation\u001b[22m\u001b[39m)\n",
       "├─ \u001b[0m\u001b[1m🗄\u001b[22m\u001b[36m\u001b[1m*\u001b[22m\u001b[39m\u001b[0m Sequence |> map(#46) |> with_name(:\u001b[31m\u001b[1mquantified\u001b[22m\u001b[39m) |> Repeat |> map(#46) |> with_name(:\u001b[31m\u001b[1msequence\u001b[22m\u001b[39m)\n",
       "│  ├─ \u001b[36m\u001b[1m|\u001b[22m\u001b[39m\u001b[0m\u001b[1m🗄\u001b[22m\u001b[36m\u001b[1m...\u001b[22m\u001b[39m\u001b[0m Either\n",
       "│  │  ├─ \u001b[36m\u001b[1m|\u001b[22m\u001b[39m\u001b[0m\u001b[1m🗄\u001b[22m\u001b[36m\u001b[1m...\u001b[22m\u001b[39m\u001b[0m Either |> map(#48)\n",
       "│  │  │  ├─ \u001b[36m\u001b[1m[^^\\[\\)\\?\\(\\*\\\\\\|\\+\\$\\^\\.\\{]\u001b[22m\u001b[39m\u001b[0m CharNotIn |> with_name(:\u001b[31m\u001b[1mcharacter\u001b[22m\u001b[39m)\n",
       "│  │  │  └─ \u001b[0m\u001b[1m🗄\u001b[22m\u001b[0m Sequence |> map(#54) |> with_name(:\u001b[31m\u001b[1mescaped meta\u001b[22m\u001b[39m)\n",
       "│  │  │     ├─ \u001b[36m\u001b[1m\\\\\u001b[22m\u001b[39m\u001b[0m \n",
       "│  │  │     └─ \u001b[36m\u001b[1m[\\[\\)\\?\\(\\*\\\\\\|\\+\\$\\^\\.\\{]\u001b[22m\u001b[39m\u001b[0m CharIn\n",
       "│  │  ├─ \u001b[0m\u001b[1m🗄\u001b[22m\u001b[0m Sequence |> map(#46) |> with_name(:\u001b[31m\u001b[1mcapture_group\u001b[22m\u001b[39m)\n",
       "│  │  │  ├─ \u001b[36m\u001b[1m\\(\u001b[22m\u001b[39m\u001b[0m \n",
       "│  │  │  ├─ \u001b[0m\u001b[1m🗄\u001b[22m\u001b[0m Sequence |> map(#46) |> with_name(:\u001b[31m\u001b[1malternation\u001b[22m\u001b[39m)\n",
       "│  │  │  │  ├─ \u001b[0m\u001b[1m🗄\u001b[22m\u001b[36m\u001b[1m*\u001b[22m\u001b[39m\u001b[0m Sequence |> map(#46) |> with_name(:\u001b[31m\u001b[1mquantified\u001b[22m\u001b[39m) |> Repeat |> map(#46) |> with_name(:\u001b[31m\u001b[1msequence\u001b[22m\u001b[39m)\n",
       "│  │  │  │  └─ \u001b[0m\u001b[1m🗄\u001b[22m\u001b[36m\u001b[1m*\u001b[22m\u001b[39m\u001b[0m Sequence |> map(#54) |> Repeat\n",
       "│  │  │  └─ \u001b[36m\u001b[1m\\)\u001b[22m\u001b[39m\u001b[0m \n",
       "│  │  └─ \u001b[0m\u001b[1m🗄\u001b[22m\u001b[0m Sequence |> map(#54) |> with_name(:\u001b[31m\u001b[1mnoncapture_group\u001b[22m\u001b[39m)\n",
       "│  │     ├─ \u001b[36m\u001b[1m\\(\\?\\:\u001b[22m\u001b[39m\u001b[0m \n",
       "│  │     ├─ \u001b[0m\u001b[1m🗄\u001b[22m\u001b[0m Sequence |> map(#46) |> with_name(:\u001b[31m\u001b[1malternation\u001b[22m\u001b[39m)\n",
       "│  │     │  ├─ \u001b[0m\u001b[1m🗄\u001b[22m\u001b[36m\u001b[1m*\u001b[22m\u001b[39m\u001b[0m Sequence |> map(#46) |> with_name(:\u001b[31m\u001b[1mquantified\u001b[22m\u001b[39m) |> Repeat |> map(#46) |> with_name(:\u001b[31m\u001b[1msequence\u001b[22m\u001b[39m)\n",
       "│  │     │  └─ \u001b[0m\u001b[1m🗄\u001b[22m\u001b[36m\u001b[1m*\u001b[22m\u001b[39m\u001b[0m Sequence |> map(#54) |> Repeat\n",
       "│  │     └─ \u001b[36m\u001b[1m\\)\u001b[22m\u001b[39m\u001b[0m \n",
       "│  ├─ \u001b[36m\u001b[1m|\u001b[22m\u001b[39m\u001b[0m\u001b[1m🗄\u001b[22m\u001b[36m\u001b[1m...?\u001b[22m\u001b[39m\u001b[0m Either |> Optional(default=(1, 1)) |> with_name(:\u001b[31m\u001b[1mrepetition\u001b[22m\u001b[39m)\n",
       "│  │  ├─ \u001b[36m\u001b[1m\\?\u001b[22m\u001b[39m\u001b[0m  |> map(Constant((0, 1)))\n",
       "│  │  ├─ \u001b[36m\u001b[1m\\+\u001b[22m\u001b[39m\u001b[0m  |> map(Constant((1, 9223372036854775807)))\n",
       "│  │  ├─ \u001b[36m\u001b[1m\\*\u001b[22m\u001b[39m\u001b[0m  |> map(Constant((0, 9223372036854775807)))\n",
       "│  │  └─ \u001b[0m\u001b[1m🗄\u001b[22m\u001b[0m Sequence |> map(#46) |> with_name(:\u001b[31m\u001b[1mcurly_repetition\u001b[22m\u001b[39m)\n",
       "│  │     ├─ \u001b[36m\u001b[1m\\{\u001b[22m\u001b[39m\u001b[0m \n",
       "│  │     ├─ \u001b[0m\u001b[1m🗄\u001b[22m\u001b[0m Sequence |> map(#46)\n",
       "│  │     │  ├─ \u001b[36m\u001b[1m\\-\u001b[22m\u001b[39m\u001b[36m\u001b[1m?\u001b[22m\u001b[39m\u001b[0m  |> Optional(default=missing)\n",
       "│  │     │  └─ \u001b[36m\u001b[1m[0123476985]\u001b[22m\u001b[39m\u001b[36m\u001b[1m+\u001b[22m\u001b[39m\u001b[0m CharIn |> Repeat |> map(#46)\n",
       "│  │     ├─ \u001b[0m\u001b[1m🗄\u001b[22m\u001b[36m\u001b[1m?\u001b[22m\u001b[39m\u001b[0m Sequence |> map(#54) |> Optional(default=missing)\n",
       "│  │     │  ├─ \u001b[36m\u001b[1m,\u001b[22m\u001b[39m\u001b[0m \n",
       "│  │     │  └─ \u001b[0m\u001b[1m🗄\u001b[22m\u001b[36m\u001b[1m?\u001b[22m\u001b[39m\u001b[0m Sequence |> map(#46) |> Optional(default=9223372036854775807)\n",
       "│  │     └─ \u001b[36m\u001b[1m\\}\u001b[22m\u001b[39m\u001b[0m \n",
       "│  └─ \u001b[36m\u001b[1m[\\?\\+]\u001b[22m\u001b[39m\u001b[36m\u001b[1m?\u001b[22m\u001b[39m\u001b[0m CharIn |> map(#46) |> Optional(default=missing)\n",
       "└─ \u001b[0m\u001b[1m🗄\u001b[22m\u001b[36m\u001b[1m*\u001b[22m\u001b[39m\u001b[0m Sequence |> map(#54) |> Repeat\n",
       "   ├─ \u001b[36m\u001b[1m\\|\u001b[22m\u001b[39m\u001b[0m \n",
       "   └─ \u001b[0m\u001b[1m🗄\u001b[22m\u001b[36m\u001b[1m*\u001b[22m\u001b[39m\u001b[0m Sequence |> map(#46) |> with_name(:\u001b[31m\u001b[1mquantified\u001b[22m\u001b[39m) |> Repeat |> map(#46) |> with_name(:\u001b[31m\u001b[1msequence\u001b[22m\u001b[39m)\n",
       "      ├─ \u001b[36m\u001b[1m|\u001b[22m\u001b[39m\u001b[0m\u001b[1m🗄\u001b[22m\u001b[36m\u001b[1m...\u001b[22m\u001b[39m\u001b[0m Either\n",
       "      │  ├─ \u001b[36m\u001b[1m|\u001b[22m\u001b[39m\u001b[0m\u001b[1m🗄\u001b[22m\u001b[36m\u001b[1m...\u001b[22m\u001b[39m\u001b[0m Either |> map(#48)\n",
       "      │  │  ├─ \u001b[36m\u001b[1m[^^\\[\\)\\?\\(\\*\\\\\\|\\+\\$\\^\\.\\{]\u001b[22m\u001b[39m\u001b[0m CharNotIn |> with_name(:\u001b[31m\u001b[1mcharacter\u001b[22m\u001b[39m)\n",
       "      │  │  └─ \u001b[0m\u001b[1m🗄\u001b[22m\u001b[0m Sequence |> map(#54) |> with_name(:\u001b[31m\u001b[1mescaped meta\u001b[22m\u001b[39m)\n",
       "      │  ├─ \u001b[0m\u001b[1m🗄\u001b[22m\u001b[0m Sequence |> map(#46) |> with_name(:\u001b[31m\u001b[1mcapture_group\u001b[22m\u001b[39m)\n",
       "      │  │  ├─ \u001b[36m\u001b[1m\\(\u001b[22m\u001b[39m\u001b[0m \n",
       "      │  │  ├─ \u001b[0m\u001b[1m🗄\u001b[22m\u001b[0m Sequence |> map(#46) |> with_name(:\u001b[31m\u001b[1malternation\u001b[22m\u001b[39m)\n",
       "      │  │  └─ \u001b[36m\u001b[1m\\)\u001b[22m\u001b[39m\u001b[0m \n",
       "      │  └─ \u001b[0m\u001b[1m🗄\u001b[22m\u001b[0m Sequence |> map(#54) |> with_name(:\u001b[31m\u001b[1mnoncapture_group\u001b[22m\u001b[39m)\n",
       "      │     ├─ \u001b[36m\u001b[1m\\(\\?\\:\u001b[22m\u001b[39m\u001b[0m \n",
       "      │     ├─ \u001b[0m\u001b[1m🗄\u001b[22m\u001b[0m Sequence |> map(#46) |> with_name(:\u001b[31m\u001b[1malternation\u001b[22m\u001b[39m)\n",
       "      │     └─ \u001b[36m\u001b[1m\\)\u001b[22m\u001b[39m\u001b[0m \n",
       "      ├─ \u001b[36m\u001b[1m|\u001b[22m\u001b[39m\u001b[0m\u001b[1m🗄\u001b[22m\u001b[36m\u001b[1m...?\u001b[22m\u001b[39m\u001b[0m Either |> Optional(default=(1, 1)) |> with_name(:\u001b[31m\u001b[1mrepetition\u001b[22m\u001b[39m)\n",
       "      │  ├─ \u001b[36m\u001b[1m\\?\u001b[22m\u001b[39m\u001b[0m  |> map(Constant((0, 1)))\n",
       "      │  ├─ \u001b[36m\u001b[1m\\+\u001b[22m\u001b[39m\u001b[0m  |> map(Constant((1, 9223372036854775807)))\n",
       "      │  ├─ \u001b[36m\u001b[1m\\*\u001b[22m\u001b[39m\u001b[0m  |> map(Constant((0, 9223372036854775807)))\n",
       "      │  └─ \u001b[0m\u001b[1m🗄\u001b[22m\u001b[0m Sequence |> map(#46) |> with_name(:\u001b[31m\u001b[1mcurly_repetition\u001b[22m\u001b[39m)\n",
       "      │     ├─ \u001b[36m\u001b[1m\\{\u001b[22m\u001b[39m\u001b[0m \n",
       "      │     ├─ \u001b[0m\u001b[1m🗄\u001b[22m\u001b[0m Sequence |> map(#46)\n",
       "      │     ├─ \u001b[0m\u001b[1m🗄\u001b[22m\u001b[36m\u001b[1m?\u001b[22m\u001b[39m\u001b[0m Sequence |> map(#54) |> Optional(default=missing)\n",
       "      │     └─ \u001b[36m\u001b[1m\\}\u001b[22m\u001b[39m\u001b[0m \n",
       "      └─ \u001b[36m\u001b[1m[\\?\\+]\u001b[22m\u001b[39m\u001b[36m\u001b[1m?\u001b[22m\u001b[39m\u001b[0m CharIn |> map(#46) |> Optional(default=missing)\n",
       "::CombinedParser\n"
      ]
     },
     "execution_count": 56,
     "metadata": {},
     "output_type": "execute_result"
    }
   ],
   "source": [
    "alternation\n",
    "## is a parser"
   ]
  },
  {
   "cell_type": "code",
   "execution_count": 57,
   "metadata": {
    "slideshow": {
     "slide_type": "slide"
    }
   },
   "outputs": [
    {
     "name": "stdout",
     "output_type": "stream",
     "text": [
      "result_type(alternation) = CombinedParser\n",
      "\u001b[32m\u001b[1m   match \u001b[22m\u001b[39mnoncapture_group: \u001b[32m\u001b[1m(?:a|b)\u001b[22m\u001b[39m\u001b[33m+\u001b[39m\n"
     ]
    },
    {
     "data": {
      "text/plain": [
       "\u001b[36m\u001b[1m|\u001b[22m\u001b[39m\u001b[0m\u001b[1m🗄\u001b[22m\u001b[36m\u001b[1m...{1,9223372036854775807}\u001b[22m\u001b[39m\u001b[0m Either |> Repeat\n",
       "├─ \u001b[36m\u001b[1ma\u001b[22m\u001b[39m\u001b[0m \n",
       "└─ \u001b[36m\u001b[1mb\u001b[22m\u001b[39m\u001b[0m \n",
       "::Array{Char,1}\n"
      ]
     },
     "execution_count": 57,
     "metadata": {},
     "output_type": "execute_result"
    }
   ],
   "source": [
    "# the alternation parser transforms a regex string into a parser\n",
    "\n",
    "@show result_type(alternation)\n",
    "\n",
    "ab_parser = alternation(\"(?:a|b)+\", log=[:noncapture_group])"
   ]
  },
  {
   "cell_type": "code",
   "execution_count": 58,
   "metadata": {
    "slideshow": {
     "slide_type": "fragment"
    }
   },
   "outputs": [
    {
     "data": {
      "text/plain": [
       "ParseMatch(\"aab\")"
      ]
     },
     "execution_count": 58,
     "metadata": {},
     "output_type": "execute_result"
    }
   ],
   "source": [
    "## the ab_parser\n",
    "match(ab_parser,\"aab\")\n"
   ]
  },
  {
   "cell_type": "code",
   "execution_count": 59,
   "metadata": {
    "slideshow": {
     "slide_type": "slide"
    }
   },
   "outputs": [
    {
     "name": "stdout",
     "output_type": "stream",
     "text": [
      "('r', 'e', 'g', missing, 'e', 'x', missing, missing)\n",
      "('r', 'e', 'g', missing, 'e', 'x', missing, missing)\n"
     ]
    }
   ],
   "source": [
    "# We quickly wrote a parser for regular expressions that generates a PCRE equivalent CombinedParser.\n",
    "\n",
    "parse(parse(alternation,raw\"reg(ular )?ex(p(ression)?)?\\??\"), \"regex\") |> println\n",
    "parse(re\"reg(ular )?ex(p(ression)?)?\\??\", \"regex\") |> println"
   ]
  },
  {
   "cell_type": "markdown",
   "metadata": {
    "slideshow": {
     "slide_type": "slide"
    }
   },
   "source": [
    "### Looking around\n",
    "\n"
   ]
  },
  {
   "cell_type": "code",
   "execution_count": 63,
   "metadata": {
    "slideshow": {
     "slide_type": "-"
    }
   },
   "outputs": [],
   "source": [
    "\n",
    "@with_names lookahead=Sequence(\n",
    "    2,\n",
    "    \"(\",\n",
    "    Either(Sequence(\n",
    "            v -> look_ahead(true,v[2]),\n",
    "            Either(\"?=\",\"*positive_lookahead:\",\"*pla:\"),\n",
    "            alternation),\n",
    "        Sequence(\n",
    "            v -> look_ahead(false,v[2]),\n",
    "            Either(\"?!\",\"*negative_lookahead:\",\"*nla:\"),\n",
    "            alternation)),\n",
    "    \")\");\n",
    "pushfirst!(repeatable,lookahead);\n",
    "\n",
    "\n",
    "\n",
    "@with_names lookbehind=Sequence(\n",
    "    2,\n",
    "    \"(\",\n",
    "    Either(Sequence(v -> look_behind(true,v[2]),\n",
    "            Either(\"?<=\",\"*positive_lookbehind:\",\"*plb:\"),alternation),\n",
    "        Sequence(v -> look_behind(false,v[2]),\n",
    "            Either(\"?<!\",\"*negative_lookbehind:\",\"*nlb:\"),alternation)),\n",
    "    \")\");\n",
    "pushfirst!(repeatable,lookbehind);\n",
    "\n"
   ]
  },
  {
   "cell_type": "code",
   "execution_count": 65,
   "metadata": {
    "slideshow": {
     "slide_type": "slide"
    }
   },
   "outputs": [
    {
     "data": {
      "text/plain": [
       "\u001b[0m\u001b[1m🗄\u001b[22m\u001b[0m Sequence |> map(#54) |> with_name(:\u001b[31m\u001b[1mbracket\u001b[22m\u001b[39m)\n",
       "├─ \u001b[36m\u001b[1m\\[\u001b[22m\u001b[39m\u001b[0m \n",
       "├─ \u001b[36m\u001b[1m\\^\u001b[22m\u001b[39m\u001b[36m\u001b[1m?\u001b[22m\u001b[39m\u001b[0m  |> Optional(default=missing)\n",
       "├─ \u001b[36m\u001b[1m|\u001b[22m\u001b[39m\u001b[0m\u001b[1m🗄\u001b[22m\u001b[36m\u001b[1m...{,1}\u001b[22m\u001b[39m\u001b[0m Either |> Repeat\n",
       "│  ├─ \u001b[0m\u001b[1m🗄\u001b[22m\u001b[0m Sequence |> map(#46) |> with_name(:\u001b[31m\u001b[1mchar_range\u001b[22m\u001b[39m)\n",
       "│  │  ├─ \u001b[36m\u001b[1m\\]\u001b[22m\u001b[39m\u001b[0m \n",
       "│  │  ├─ \u001b[36m\u001b[1m[\\u2028\\u200e\\v\\u2029\\u85\\u200f\\f\\n\\t\\ ]\u001b[22m\u001b[39m\u001b[36m\u001b[1m*\u001b[22m\u001b[39m\u001b[0m CharIn |> Repeat |> map(Constant(re\"\")) |> on_options(\"xx\") |> with_name(:\u001b[31m\u001b[1mskip_ws\u001b[22m\u001b[39m)\n",
       "│  │  ├─ \u001b[36m\u001b[1m\\-\u001b[22m\u001b[39m\u001b[0m \n",
       "│  │  ├─ \u001b[36m\u001b[1m[\\u2028\\u200e\\v\\u2029\\u85\\u200f\\f\\n\\t\\ ]\u001b[22m\u001b[39m\u001b[36m\u001b[1m*\u001b[22m\u001b[39m\u001b[0m CharIn |> Repeat |> map(Constant(re\"\")) |> on_options(\"xx\") |> with_name(:\u001b[31m\u001b[1mskip_ws\u001b[22m\u001b[39m)\n",
       "│  │  └─ \u001b[36m\u001b[1m|\u001b[22m\u001b[39m\u001b[0m\u001b[1m🗄\u001b[22m\u001b[36m\u001b[1m...\u001b[22m\u001b[39m\u001b[0m Either\n",
       "│  │     ├─ \u001b[36m\u001b[1m[^^\\]\\\\\\^\\-]\u001b[22m\u001b[39m\u001b[0m CharNotIn\n",
       "│  │     ├─ \u001b[36m\u001b[1m\\\\b\u001b[22m\u001b[39m\u001b[0m  |> map(Constant('\\b'))\n",
       "│  │     ├─ \u001b[0m\u001b[1m🗄\u001b[22m\u001b[0m Sequence |> map(#46)\n",
       "│  │     │  ├─ \u001b[36m\u001b[1m\\\\\u001b[22m\u001b[39m\u001b[0m \n",
       "│  │     │  └─ \u001b[36m\u001b[1m[01234765]\u001b[22m\u001b[39m\u001b[36m\u001b[1m{1,3}\u001b[22m\u001b[39m\u001b[0m CharIn |> Repeat |> map(#46)\n",
       "│  │     └─ \u001b[0m\u001b[1m🗄\u001b[22m\u001b[0m Sequence |> map(#54) |> with_name(:\u001b[31m\u001b[1mescaped_character\u001b[22m\u001b[39m)\n",
       "│  │        ├─ \u001b[36m\u001b[1m\\\\\u001b[22m\u001b[39m\u001b[0m \n",
       "│  │        └─ \u001b[36m\u001b[1m|\u001b[22m\u001b[39m\u001b[0m\u001b[1m🗄\u001b[22m\u001b[36m\u001b[1m...\u001b[22m\u001b[39m\u001b[0m Either\n",
       "│  └─ \u001b[36m\u001b[1m\\]\u001b[22m\u001b[39m\u001b[0m  |> map(Constant(']'))\n",
       "├─ \u001b[36m\u001b[1m|\u001b[22m\u001b[39m\u001b[0m\u001b[1m🗄\u001b[22m\u001b[36m\u001b[1m...*\u001b[22m\u001b[39m\u001b[0m Either |> Repeat\n",
       "│  ├─ \u001b[0m\u001b[1m🗄\u001b[22m\u001b[0m Sequence |> map(#54)\n",
       "│  │  ├─ \u001b[36m\u001b[1m\\[\\:\u001b[22m\u001b[39m\u001b[0m \n",
       "│  │  ├─ \u001b[36m\u001b[1m|\u001b[22m\u001b[39m\u001b[0m\u001b[1m🗄\u001b[22m\u001b[36m\u001b[1m...\u001b[22m\u001b[39m\u001b[0m Either\n",
       "│  │  │  ├─ \u001b[36m\u001b[1malnum\u001b[22m\u001b[39m\u001b[0m  |> map(Constant(re\"[\\p{1:5}\\p{9:11}]\"))\n",
       "│  │  │  ├─ \u001b[36m\u001b[1malpha\u001b[22m\u001b[39m\u001b[0m  |> map(Constant(re\"[\\p{1:5}]\"))\n",
       "│  │  │  ├─ \u001b[36m\u001b[1mblank\u001b[22m\u001b[39m\u001b[0m  |> map(Constant(re\"[\\t\\p{23}]\"))\n",
       "│  │  │  ├─ \u001b[36m\u001b[1mcntrl\u001b[22m\u001b[39m\u001b[0m  |> map(Constant(re\"[\\p{26}]\"))\n",
       "│  │  │  ├─ \u001b[36m\u001b[1mdigit\u001b[22m\u001b[39m\u001b[0m  |> map(Constant(re\"[\\p{9}]\"))\n",
       "│  │  │  ├─ \u001b[36m\u001b[1mgraph\u001b[22m\u001b[39m\u001b[0m  |> map(Constant(re\"[^^\\p{23:25}\\p{26:29}]\"))\n",
       "│  │  │  ├─ \u001b[36m\u001b[1mlower\u001b[22m\u001b[39m\u001b[0m  |> map(Constant(re\"[\\p{2}]\"))\n",
       "│  │  │  ├─ \u001b[36m\u001b[1mprint\u001b[22m\u001b[39m\u001b[0m  |> map(Constant(re\"[\\p{26:29}]\"))\n",
       "│  │  │  ├─ \u001b[36m\u001b[1mpunct\u001b[22m\u001b[39m\u001b[0m  |> map(Constant(re\"[\\p{12:18}]\"))\n",
       "│  │  │  ├─ \u001b[36m\u001b[1mspace\u001b[22m\u001b[39m\u001b[0m  |> map(Constant(re\"[\\r\\v\\n\\f\\t\\p{23:25}]\"))\n",
       "│  │  │  ├─ \u001b[36m\u001b[1mupper\u001b[22m\u001b[39m\u001b[0m  |> map(Constant(re\"[\\p{1}]\"))\n",
       "│  │  │  ├─ \u001b[36m\u001b[1mword\u001b[22m\u001b[39m\u001b[0m  |> map(Constant(re\"[\\p{1:5}\\p{10}\\p{9}\\p{12}]\"))\n",
       "│  │  │  └─ \u001b[36m\u001b[1mxdigit\u001b[22m\u001b[39m\u001b[0m  |> map(Constant(re\"[f1dEe76CB5DA48Fac9023b]\"))\n",
       "│  │  └─ \u001b[36m\u001b[1m\\:\\]\u001b[22m\u001b[39m\u001b[0m \n",
       "│  ├─ \u001b[36m\u001b[1m[\\u2028\\u200e\\v\\u2029\\u85\\u200f\\f\\n\\t\\ ]\u001b[22m\u001b[39m\u001b[36m\u001b[1m*\u001b[22m\u001b[39m\u001b[0m CharIn |> Repeat |> map(Constant(re\"\")) |> on_options(\"xx\") |> map(Constant(re\"(*FAIL)\")) |> with_name(:\u001b[31m\u001b[1mskip_ws\u001b[22m\u001b[39m)\n",
       "│  ├─ \u001b[36m\u001b[1m\\\\E\u001b[22m\u001b[39m\u001b[0m  |> map(Constant(re\"(*FAIL)\"))\n",
       "│  ├─ \u001b[0m\u001b[1m🗄\u001b[22m\u001b[0m Sequence |> map(#54) |> map(#46) |> with_name(:\u001b[31m\u001b[1mescape_sequence\u001b[22m\u001b[39m)\n",
       "│  │  ├─ \u001b[36m\u001b[1m\\\\Q\u001b[22m\u001b[39m\u001b[0m \n",
       "│  │  └─ \u001b[0m\u001b[1m🗄\u001b[22m\u001b[0m Sequence |> map(#54)\n",
       "│  │     ├─ \u001b[0m\u001b[1m🗄\u001b[22m\u001b[36m\u001b[1m*\u001b[22m\u001b[39m\u001b[0m Sequence |> map(#54) |> Repeat |> JoinSubstring\n",
       "│  │     │  ├─ \u001b[36m\u001b[1m(?!|\u001b[22m\u001b[39m\u001b[0m\u001b[1m🗄\u001b[22m\u001b[36m\u001b[1m...)\u001b[22m\u001b[39m\u001b[0m NegativeLookahead\n",
       "│  │     │  └─ \u001b[36m\u001b[1m.\u001b[22m\u001b[39m\u001b[0m AnyChar\n",
       "│  │     └─ \u001b[36m\u001b[1m|\u001b[22m\u001b[39m\u001b[0m\u001b[1m🗄\u001b[22m\u001b[36m\u001b[1m...\u001b[22m\u001b[39m\u001b[0m Either\n",
       "│  │        ├─ \u001b[36m\u001b[1m\\\\E\u001b[22m\u001b[39m\u001b[0m \n",
       "│  │        └─ \u001b[36m\u001b[1m(?=\u001b[22m\u001b[39m\u001b[0m\u001b[1m🗄\u001b[22m\u001b[36m\u001b[1m$)\u001b[22m\u001b[39m\u001b[0m PositiveLookahead\n",
       "│  ├─ \u001b[0m\u001b[1m🗄\u001b[22m\u001b[0m Sequence |> map(#54) |> with_name(:\u001b[31m\u001b[1mgeneric_character_type\u001b[22m\u001b[39m)\n",
       "│  │  ├─ \u001b[36m\u001b[1m\\\\\u001b[22m\u001b[39m\u001b[0m \n",
       "│  │  └─ \u001b[36m\u001b[1m|\u001b[22m\u001b[39m\u001b[0m\u001b[1m🗄\u001b[22m\u001b[36m\u001b[1m...\u001b[22m\u001b[39m\u001b[0m Either\n",
       "│  │     ├─ \u001b[36m\u001b[1md\u001b[22m\u001b[39m\u001b[0m  |> map(Constant(re\"[0123476985]\"))\n",
       "│  │     ├─ \u001b[36m\u001b[1mD\u001b[22m\u001b[39m\u001b[0m  |> map(Constant(re\"[^^0123476985]\"))\n",
       "│  │     ├─ \u001b[36m\u001b[1mh\u001b[22m\u001b[39m\u001b[0m  |> map(Constant(re\"[\\ \\ \\u180e\\ \\ \\ \\ \\ \\ \\ \\ \\ \\ \\ \\　\\ \\ \\t\\ ]\"))\n",
       "│  │     ├─ \u001b[36m\u001b[1mH\u001b[22m\u001b[39m\u001b[0m  |> map(Constant(re\"[^^\\ \\ \\u180e\\ \\ \\ \\ \\ \\ \\ \\ \\ \\ \\ \\　\\ \\ \\t\\ ]\"))\n",
       "│  │     ├─ \u001b[36m\u001b[1ms\u001b[22m\u001b[39m\u001b[0m  |> map(Constant(re\"[\\u2028\\ \\ \\u180e\\ \\ \\ \\ \\ \\n\\f\\ \\u85\\ \\ \\ \\ \\ \\　\\v\\ \\ \\t\\r\\u2029\\ ]\"))\n",
       "│  │     ├─ \u001b[36m\u001b[1mS\u001b[22m\u001b[39m\u001b[0m  |> map(Constant(re\"[^^\\u2028\\ \\ \\u180e\\ \\ \\ \\ \\ \\n\\f\\ \\u85\\ \\ \\ \\ \\ \\　\\v\\ \\ \\t\\r\\u2029\\ ]\"))\n",
       "│  │     ├─ \u001b[36m\u001b[1mv\u001b[22m\u001b[39m\u001b[0m  |> map(Constant(re\"[\\r\\u2028\\v\\u2029\\n\\f\\u85]\"))\n",
       "│  │     ├─ \u001b[36m\u001b[1mV\u001b[22m\u001b[39m\u001b[0m  |> map(Constant(re\"[^^\\r\\u2028\\v\\u2029\\n\\f\\u85]\"))\n",
       "│  │     ├─ \u001b[36m\u001b[1mw\u001b[22m\u001b[39m\u001b[0m  |> map(Constant(re\"[_\\p{1:5}\\p{9:11}]\"))\n",
       "│  │     └─ \u001b[36m\u001b[1mW\u001b[22m\u001b[39m\u001b[0m  |> map(Constant(re\"[^^_\\p{1:5}\\p{9:11}]\"))\n",
       "│  ├─ \u001b[0m\u001b[1m🗄\u001b[22m\u001b[0m Sequence |> map(#46) |> with_name(:\u001b[31m\u001b[1mchar_range\u001b[22m\u001b[39m)\n",
       "│  │  ├─ \u001b[36m\u001b[1m|\u001b[22m\u001b[39m\u001b[0m\u001b[1m🗄\u001b[22m\u001b[36m\u001b[1m...\u001b[22m\u001b[39m\u001b[0m Either\n",
       "│  │  │  ├─ \u001b[36m\u001b[1m[^^\\]\\\\\\^\\-]\u001b[22m\u001b[39m\u001b[0m CharNotIn\n",
       "│  │  │  ├─ \u001b[36m\u001b[1m\\\\b\u001b[22m\u001b[39m\u001b[0m  |> map(Constant('\\b'))\n",
       "│  │  │  ├─ \u001b[0m\u001b[1m🗄\u001b[22m\u001b[0m Sequence |> map(#46)\n",
       "│  │  │  │  ├─ \u001b[36m\u001b[1m\\\\\u001b[22m\u001b[39m\u001b[0m \n",
       "│  │  │  │  └─ \u001b[36m\u001b[1m[01234765]\u001b[22m\u001b[39m\u001b[36m\u001b[1m{1,3}\u001b[22m\u001b[39m\u001b[0m CharIn |> Repeat |> map(#46)\n",
       "│  │  │  └─ \u001b[0m\u001b[1m🗄\u001b[22m\u001b[0m Sequence |> map(#54) |> with_name(:\u001b[31m\u001b[1mescaped_character\u001b[22m\u001b[39m)\n",
       "│  │  │     ├─ \u001b[36m\u001b[1m\\\\\u001b[22m\u001b[39m\u001b[0m \n",
       "│  │  │     └─ \u001b[36m\u001b[1m|\u001b[22m\u001b[39m\u001b[0m\u001b[1m🗄\u001b[22m\u001b[36m\u001b[1m...\u001b[22m\u001b[39m\u001b[0m Either\n",
       "│  │  ├─ \u001b[36m\u001b[1m[\\u2028\\u200e\\v\\u2029\\u85\\u200f\\f\\n\\t\\ ]\u001b[22m\u001b[39m\u001b[36m\u001b[1m*\u001b[22m\u001b[39m\u001b[0m CharIn |> Repeat |> map(Constant(re\"\")) |> on_options(\"xx\") |> with_name(:\u001b[31m\u001b[1mskip_ws\u001b[22m\u001b[39m)\n",
       "│  │  ├─ \u001b[36m\u001b[1m\\-\u001b[22m\u001b[39m\u001b[0m \n",
       "│  │  ├─ \u001b[36m\u001b[1m[\\u2028\\u200e\\v\\u2029\\u85\\u200f\\f\\n\\t\\ ]\u001b[22m\u001b[39m\u001b[36m\u001b[1m*\u001b[22m\u001b[39m\u001b[0m CharIn |> Repeat |> map(Constant(re\"\")) |> on_options(\"xx\") |> with_name(:\u001b[31m\u001b[1mskip_ws\u001b[22m\u001b[39m)\n",
       "│  │  └─ \u001b[36m\u001b[1m|\u001b[22m\u001b[39m\u001b[0m\u001b[1m🗄\u001b[22m\u001b[36m\u001b[1m...\u001b[22m\u001b[39m\u001b[0m Either\n",
       "│  │     ├─ \u001b[36m\u001b[1m[^^\\]\\\\\\^\\-]\u001b[22m\u001b[39m\u001b[0m CharNotIn\n",
       "│  │     ├─ \u001b[36m\u001b[1m\\\\b\u001b[22m\u001b[39m\u001b[0m  |> map(Constant('\\b'))\n",
       "│  │     ├─ \u001b[0m\u001b[1m🗄\u001b[22m\u001b[0m Sequence |> map(#46)\n",
       "│  │     │  ├─ \u001b[36m\u001b[1m\\\\\u001b[22m\u001b[39m\u001b[0m \n",
       "│  │     │  └─ \u001b[36m\u001b[1m[01234765]\u001b[22m\u001b[39m\u001b[36m\u001b[1m{1,3}\u001b[22m\u001b[39m\u001b[0m CharIn |> Repeat |> map(#46)\n",
       "│  │     └─ \u001b[0m\u001b[1m🗄\u001b[22m\u001b[0m Sequence |> map(#54) |> with_name(:\u001b[31m\u001b[1mescaped_character\u001b[22m\u001b[39m)\n",
       "│  │        ├─ \u001b[36m\u001b[1m\\\\\u001b[22m\u001b[39m\u001b[0m \n",
       "│  │        └─ \u001b[36m\u001b[1m|\u001b[22m\u001b[39m\u001b[0m\u001b[1m🗄\u001b[22m\u001b[36m\u001b[1m...\u001b[22m\u001b[39m\u001b[0m Either\n",
       "│  ├─ \u001b[36m\u001b[1m|\u001b[22m\u001b[39m\u001b[0m\u001b[1m🗄\u001b[22m\u001b[36m\u001b[1m...\u001b[22m\u001b[39m\u001b[0m Either |> map(#46)\n",
       "│  │  ├─ \u001b[36m\u001b[1m[^^\\]\\\\\\^\\-]\u001b[22m\u001b[39m\u001b[0m CharNotIn\n",
       "│  │  ├─ \u001b[36m\u001b[1m\\\\b\u001b[22m\u001b[39m\u001b[0m  |> map(Constant('\\b'))\n",
       "│  │  ├─ \u001b[0m\u001b[1m🗄\u001b[22m\u001b[0m Sequence |> map(#46)\n",
       "│  │  │  ├─ \u001b[36m\u001b[1m\\\\\u001b[22m\u001b[39m\u001b[0m \n",
       "│  │  │  └─ \u001b[36m\u001b[1m[01234765]\u001b[22m\u001b[39m\u001b[36m\u001b[1m{1,3}\u001b[22m\u001b[39m\u001b[0m CharIn |> Repeat |> map(#46)\n",
       "│  │  └─ \u001b[0m\u001b[1m🗄\u001b[22m\u001b[0m Sequence |> map(#54) |> with_name(:\u001b[31m\u001b[1mescaped_character\u001b[22m\u001b[39m)\n",
       "│  │     ├─ \u001b[36m\u001b[1m\\\\\u001b[22m\u001b[39m\u001b[0m \n",
       "│  │     └─ \u001b[36m\u001b[1m|\u001b[22m\u001b[39m\u001b[0m\u001b[1m🗄\u001b[22m\u001b[36m\u001b[1m...\u001b[22m\u001b[39m\u001b[0m Either\n",
       "│  │        ├─ \u001b[36m\u001b[1ma\u001b[22m\u001b[39m\u001b[0m  |> map(Constant('\\a'))\n",
       "│  │        ├─ \u001b[0m\u001b[1m🗄\u001b[22m\u001b[0m Sequence |> map(#46)\n",
       "│  │        ├─ \u001b[36m\u001b[1me\u001b[22m\u001b[39m\u001b[0m  |> map(Constant('\\e'))\n",
       "│  │        ├─ \u001b[36m\u001b[1mf\u001b[22m\u001b[39m\u001b[0m  |> map(Constant('\\f'))\n",
       "│  │        ├─ \u001b[36m\u001b[1mn\u001b[22m\u001b[39m\u001b[0m  |> map(Constant('\\n'))\n",
       "│  │        ├─ \u001b[36m\u001b[1mr\u001b[22m\u001b[39m\u001b[0m  |> map(Constant('\\r'))\n",
       "│  │        ├─ \u001b[36m\u001b[1mt\u001b[22m\u001b[39m\u001b[0m  |> map(Constant('\\t'))\n",
       "│  │        ├─ \u001b[36m\u001b[1m\\\"\u001b[22m\u001b[39m\u001b[0m  |> map(Constant('\"'))\n",
       "│  │        ├─ \u001b[0m\u001b[1m🗄\u001b[22m\u001b[0m Sequence |> map(#46)\n",
       "│  │        ├─ \u001b[0m\u001b[1m🗄\u001b[22m\u001b[0m Sequence |> map(#46)\n",
       "│  │        ├─ \u001b[0m\u001b[1m🗄\u001b[22m\u001b[0m Sequence |> map(#46)\n",
       "│  │        ├─ \u001b[0m\u001b[1m🗄\u001b[22m\u001b[0m Sequence |> map(#46)\n",
       "│  │        ├─ \u001b[0m\u001b[1m🗄\u001b[22m\u001b[0m Sequence |> map(#46)\n",
       "│  │        └─ \u001b[36m\u001b[1m[^^EQ]\u001b[22m\u001b[39m\u001b[0m CharNotIn\n",
       "│  ├─ \u001b[36m\u001b[1m\\^\u001b[22m\u001b[39m\u001b[0m  |> map(Constant('^'))\n",
       "│  └─ \u001b[36m\u001b[1m\\-\u001b[22m\u001b[39m\u001b[0m  |> map(Constant('-'))\n",
       "└─ \u001b[36m\u001b[1m\\]\u001b[22m\u001b[39m\u001b[0m \n",
       "::CombinedParser\n"
      ]
     },
     "execution_count": 65,
     "metadata": {},
     "output_type": "execute_result"
    }
   ],
   "source": [
    "import CombinedParsers.Regexp: bracket\n",
    "push!(repeatable,bracket);\n",
    "bracket"
   ]
  },
  {
   "cell_type": "markdown",
   "metadata": {
    "slideshow": {
     "slide_type": "slide"
    }
   },
   "source": [
    "## Iterating matches\n"
   ]
  },
  {
   "cell_type": "code",
   "execution_count": 67,
   "metadata": {
    "slideshow": {
     "slide_type": "fragment"
    }
   },
   "outputs": [
    {
     "data": {
      "text/plain": [
       "4-element Array{Tuple{AtStart,Array{Union{Char, Tuple{Char,Char}},1},AtEnd},1}:\n",
       " (re\"^\", ['a', 'b', 'a', 'b'], re\"$\")    \n",
       " (re\"^\", ['a', 'b', ('a', 'b')], re\"$\")  \n",
       " (re\"^\", [('a', 'b'), 'a', 'b'], re\"$\")  \n",
       " (re\"^\", [('a', 'b'), ('a', 'b')], re\"$\")"
      ]
     },
     "execution_count": 67,
     "metadata": {},
     "output_type": "execute_result"
    }
   ],
   "source": [
    "# Backtracking and listing all matches\n",
    "parse_all(re\"^(a|ab|b)+$\",\"abab\") |> collect"
   ]
  },
  {
   "cell_type": "markdown",
   "metadata": {
    "slideshow": {
     "slide_type": "slide"
    }
   },
   "source": [
    "### Unit Tests\n",
    "The package was tested with unit tests of the PCRE C library.\n",
    "\n",
    "Some tests did not pass: 3130 passed, 123 failed, 0 errored, 0 broken.\n",
    "\n",
    "### Limitations\n",
    "- alpha release\n",
    "- no capture groups in look-behind.\n",
    "- limited PCRE functionality ACCEPT, SKIP, COMMIT, THEN, PRUNE, \\K\n",
    "\n"
   ]
  },
  {
   "cell_type": "markdown",
   "metadata": {
    "slideshow": {
     "slide_type": "slide"
    }
   },
   "source": [
    "### Performance\n",
    "Preliminary tests were encouraging, in part better than PCRE, optimization is next step.\n",
    "\n",
    "\n",
    "### Next Steps\n",
    "- Performance optimizations\n",
    "    - parsing memoization\n",
    "    - backtracking optimization for special cases with multiple dispatch\n",
    "- Documentation\n",
    "- Publishing packages for parsing wikitext and orgmode markup\n",
    "- error backtracking, stepping & debugging\n",
    "- test coverage\n"
   ]
  },
  {
   "cell_type": "code",
   "execution_count": 68,
   "metadata": {},
   "outputs": [
    {
     "name": "stdout",
     "output_type": "stream",
     "text": [
      "  63.393 ns (3 allocations: 80 bytes)\n",
      "  43.490 ns (2 allocations: 64 bytes)\n",
      "  145.768 ns (5 allocations: 272 bytes)\n"
     ]
    }
   ],
   "source": [
    "using BenchmarkTools\n",
    "\n",
    "# julia PCRE regex support\n",
    "pc = re\"a*\"\n",
    "re = r\"a*\"\n",
    "@btime match(pc,\"a\"^3);\n",
    "@btime _iterate(pc,\"a\"^3);\n",
    "@btime match(re,\"a\"^3);"
   ]
  },
  {
   "cell_type": "markdown",
   "metadata": {
    "slideshow": {
     "slide_type": "slide"
    }
   },
   "source": [
    "## Acknowledgements\n",
    "\n",
    "The work was inspired by Scala FastParse package and the Julia parsing packages\n",
    "##### Parsers.jl\n",
    "For date and primitive types.\n",
    "##### TextParse\n",
    "- used in CSV.jl\n",
    "- uses Nullables\n",
    "- CombinedParser <: TextParse.AbstractToken\n",
    "\n",
    "##### Automa.jl\n",
    "- grammar based state machine compiler\n",
    "- no UTF8 support\n",
    "\n",
    "##### ParserCombinator.jl\n",
    "- old source base (pre 2016, fixed for Julia 1.0 in 2018)\n",
    "    - using Nullables\n",
    "- no iterator API\n",
    "- performance \n",
    "    - mutable matcher types\n",
    "    - matcher types not parametric"
   ]
  },
  {
   "cell_type": "markdown",
   "metadata": {
    "slideshow": {
     "slide_type": "slide"
    }
   },
   "source": [
    "## CombinedParsers.jl\n",
    "- more expressive than regular expressions\n",
    "- provides compiled regular expression parsers in pure julia\n",
    "- arbitrary transformations with convenient syntax\n",
    "     - parsing and transformation are decoupled for optimized performance.\n",
    "     - Julia type inference for result_types\n",
    "- logging helps debugging complex parsers.\n",
    "- higher-order parsers depending on the parsing state\n",
    "- iterate interface to lazily generate all valid parsings\n",
    "- TextParse interface to include ParserIterators e.g. in CSV.jl.\n",
    "- generalize from strings to parsing any iterator type\n",
    "- MIT licenced, https://github.com/gkappler/CombinedParsers.jl\n",
    "\n",
    "\n",
    "\n",
    "### Collaborations are very welcome!"
   ]
  },
  {
   "cell_type": "markdown",
   "metadata": {
    "slideshow": {
     "slide_type": "slide"
    }
   },
   "source": [
    "### Evaluating Parser for arithmetic expressions"
   ]
  },
  {
   "cell_type": "code",
   "execution_count": 69,
   "metadata": {},
   "outputs": [
    {
     "data": {
      "text/plain": [
       "1//42"
      ]
     },
     "execution_count": 69,
     "metadata": {},
     "output_type": "execute_result"
    }
   ],
   "source": [
    "\n",
    "function eval_(v)\n",
    "    x = v[1]\n",
    "    for (op,val) in v[2]\n",
    "        x = if op=='+'\n",
    "            x + val\n",
    "        elseif op=='-'\n",
    "            x - val\n",
    "        elseif op=='*'\n",
    "            x * val\n",
    "        elseif op=='/'\n",
    "            x // val\n",
    "        end\n",
    "    end\n",
    "    x::Rational\n",
    "end\n",
    "\n",
    "\n",
    "@with_names begin\n",
    "    number = map(Rational,integer)\n",
    "    factor = Either{Rational}( Any[number] )\n",
    "    divMul = map( eval_, \n",
    "        Sequence( factor, Repeat( CharIn(\"*/\"), factor ) ) )\n",
    "    addSub = map( eval_,\n",
    "        Sequence( divMul, Repeat( CharIn(\"+-\"), divMul ) ) )\n",
    "    parens = Sequence(2, \"(\",addSub,\")\" )\n",
    "    push!(factor, parens)\n",
    "end;\n",
    "\n",
    "expr = Sequence(1, addSub, AtEnd() )\n",
    "parse(expr, \"1/((1+2)*4+3*(5*2))\")\n"
   ]
  },
  {
   "cell_type": "markdown",
   "metadata": {
    "slideshow": {
     "slide_type": "fragment"
    }
   },
   "source": [
    "Ultimately, is every rational answer the inverse of a universal question in life?"
   ]
  }
 ],
 "metadata": {
  "@webio": {
   "lastCommId": null,
   "lastKernelId": null
  },
  "celltoolbar": "Slideshow",
  "kernelspec": {
   "display_name": "Julia 1.3.1",
   "language": "julia",
   "name": "julia-1.3"
  },
  "language_info": {
   "file_extension": ".jl",
   "mimetype": "application/julia",
   "name": "julia",
   "version": "1.3.1"
  },
  "rise": {
   "enable_chalkboard": true
  }
 },
 "nbformat": 4,
 "nbformat_minor": 2
}
